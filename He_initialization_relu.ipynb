{
  "nbformat": 4,
  "nbformat_minor": 0,
  "metadata": {
    "colab": {
      "provenance": []
    },
    "kernelspec": {
      "name": "python3",
      "display_name": "Python 3"
    },
    "language_info": {
      "name": "python"
    }
  },
  "cells": [
    {
      "cell_type": "code",
      "execution_count": null,
      "metadata": {
        "id": "qfd5M5ir9vB5"
      },
      "outputs": [],
      "source": [
        "import numpy as np\n",
        "import pandas as pd\n",
        "import matplotlib.pyplot as plt"
      ]
    },
    {
      "cell_type": "code",
      "source": [
        "df = pd.read_csv(\"/content/ushape.csv\")"
      ],
      "metadata": {
        "id": "gzJrq-LE94yw"
      },
      "execution_count": null,
      "outputs": []
    },
    {
      "cell_type": "code",
      "source": [
        "df.head()"
      ],
      "metadata": {
        "colab": {
          "base_uri": "https://localhost:8080/",
          "height": 206
        },
        "id": "d-Iu963j-QUN",
        "outputId": "25a8ca3e-2520-435c-ef42-a8dcdfba5c1d"
      },
      "execution_count": null,
      "outputs": [
        {
          "output_type": "execute_result",
          "data": {
            "text/plain": [
              "        X       Y  class\n",
              "0  0.0316  0.9870    0.0\n",
              "1  2.1200 -0.0462    1.0\n",
              "2  0.8820 -0.0758    0.0\n",
              "3 -0.0551 -0.0373    1.0\n",
              "4  0.8300 -0.5390    1.0"
            ],
            "text/html": [
              "\n",
              "  <div id=\"df-43099efa-3c65-4312-bcea-b8cf728aaae4\" class=\"colab-df-container\">\n",
              "    <div>\n",
              "<style scoped>\n",
              "    .dataframe tbody tr th:only-of-type {\n",
              "        vertical-align: middle;\n",
              "    }\n",
              "\n",
              "    .dataframe tbody tr th {\n",
              "        vertical-align: top;\n",
              "    }\n",
              "\n",
              "    .dataframe thead th {\n",
              "        text-align: right;\n",
              "    }\n",
              "</style>\n",
              "<table border=\"1\" class=\"dataframe\">\n",
              "  <thead>\n",
              "    <tr style=\"text-align: right;\">\n",
              "      <th></th>\n",
              "      <th>X</th>\n",
              "      <th>Y</th>\n",
              "      <th>class</th>\n",
              "    </tr>\n",
              "  </thead>\n",
              "  <tbody>\n",
              "    <tr>\n",
              "      <th>0</th>\n",
              "      <td>0.0316</td>\n",
              "      <td>0.9870</td>\n",
              "      <td>0.0</td>\n",
              "    </tr>\n",
              "    <tr>\n",
              "      <th>1</th>\n",
              "      <td>2.1200</td>\n",
              "      <td>-0.0462</td>\n",
              "      <td>1.0</td>\n",
              "    </tr>\n",
              "    <tr>\n",
              "      <th>2</th>\n",
              "      <td>0.8820</td>\n",
              "      <td>-0.0758</td>\n",
              "      <td>0.0</td>\n",
              "    </tr>\n",
              "    <tr>\n",
              "      <th>3</th>\n",
              "      <td>-0.0551</td>\n",
              "      <td>-0.0373</td>\n",
              "      <td>1.0</td>\n",
              "    </tr>\n",
              "    <tr>\n",
              "      <th>4</th>\n",
              "      <td>0.8300</td>\n",
              "      <td>-0.5390</td>\n",
              "      <td>1.0</td>\n",
              "    </tr>\n",
              "  </tbody>\n",
              "</table>\n",
              "</div>\n",
              "    <div class=\"colab-df-buttons\">\n",
              "\n",
              "  <div class=\"colab-df-container\">\n",
              "    <button class=\"colab-df-convert\" onclick=\"convertToInteractive('df-43099efa-3c65-4312-bcea-b8cf728aaae4')\"\n",
              "            title=\"Convert this dataframe to an interactive table.\"\n",
              "            style=\"display:none;\">\n",
              "\n",
              "  <svg xmlns=\"http://www.w3.org/2000/svg\" height=\"24px\" viewBox=\"0 -960 960 960\">\n",
              "    <path d=\"M120-120v-720h720v720H120Zm60-500h600v-160H180v160Zm220 220h160v-160H400v160Zm0 220h160v-160H400v160ZM180-400h160v-160H180v160Zm440 0h160v-160H620v160ZM180-180h160v-160H180v160Zm440 0h160v-160H620v160Z\"/>\n",
              "  </svg>\n",
              "    </button>\n",
              "\n",
              "  <style>\n",
              "    .colab-df-container {\n",
              "      display:flex;\n",
              "      gap: 12px;\n",
              "    }\n",
              "\n",
              "    .colab-df-convert {\n",
              "      background-color: #E8F0FE;\n",
              "      border: none;\n",
              "      border-radius: 50%;\n",
              "      cursor: pointer;\n",
              "      display: none;\n",
              "      fill: #1967D2;\n",
              "      height: 32px;\n",
              "      padding: 0 0 0 0;\n",
              "      width: 32px;\n",
              "    }\n",
              "\n",
              "    .colab-df-convert:hover {\n",
              "      background-color: #E2EBFA;\n",
              "      box-shadow: 0px 1px 2px rgba(60, 64, 67, 0.3), 0px 1px 3px 1px rgba(60, 64, 67, 0.15);\n",
              "      fill: #174EA6;\n",
              "    }\n",
              "\n",
              "    .colab-df-buttons div {\n",
              "      margin-bottom: 4px;\n",
              "    }\n",
              "\n",
              "    [theme=dark] .colab-df-convert {\n",
              "      background-color: #3B4455;\n",
              "      fill: #D2E3FC;\n",
              "    }\n",
              "\n",
              "    [theme=dark] .colab-df-convert:hover {\n",
              "      background-color: #434B5C;\n",
              "      box-shadow: 0px 1px 3px 1px rgba(0, 0, 0, 0.15);\n",
              "      filter: drop-shadow(0px 1px 2px rgba(0, 0, 0, 0.3));\n",
              "      fill: #FFFFFF;\n",
              "    }\n",
              "  </style>\n",
              "\n",
              "    <script>\n",
              "      const buttonEl =\n",
              "        document.querySelector('#df-43099efa-3c65-4312-bcea-b8cf728aaae4 button.colab-df-convert');\n",
              "      buttonEl.style.display =\n",
              "        google.colab.kernel.accessAllowed ? 'block' : 'none';\n",
              "\n",
              "      async function convertToInteractive(key) {\n",
              "        const element = document.querySelector('#df-43099efa-3c65-4312-bcea-b8cf728aaae4');\n",
              "        const dataTable =\n",
              "          await google.colab.kernel.invokeFunction('convertToInteractive',\n",
              "                                                    [key], {});\n",
              "        if (!dataTable) return;\n",
              "\n",
              "        const docLinkHtml = 'Like what you see? Visit the ' +\n",
              "          '<a target=\"_blank\" href=https://colab.research.google.com/notebooks/data_table.ipynb>data table notebook</a>'\n",
              "          + ' to learn more about interactive tables.';\n",
              "        element.innerHTML = '';\n",
              "        dataTable['output_type'] = 'display_data';\n",
              "        await google.colab.output.renderOutput(dataTable, element);\n",
              "        const docLink = document.createElement('div');\n",
              "        docLink.innerHTML = docLinkHtml;\n",
              "        element.appendChild(docLink);\n",
              "      }\n",
              "    </script>\n",
              "  </div>\n",
              "\n",
              "\n",
              "    <div id=\"df-f6709bfd-252f-4b2d-a724-9333290d157f\">\n",
              "      <button class=\"colab-df-quickchart\" onclick=\"quickchart('df-f6709bfd-252f-4b2d-a724-9333290d157f')\"\n",
              "                title=\"Suggest charts\"\n",
              "                style=\"display:none;\">\n",
              "\n",
              "<svg xmlns=\"http://www.w3.org/2000/svg\" height=\"24px\"viewBox=\"0 0 24 24\"\n",
              "     width=\"24px\">\n",
              "    <g>\n",
              "        <path d=\"M19 3H5c-1.1 0-2 .9-2 2v14c0 1.1.9 2 2 2h14c1.1 0 2-.9 2-2V5c0-1.1-.9-2-2-2zM9 17H7v-7h2v7zm4 0h-2V7h2v10zm4 0h-2v-4h2v4z\"/>\n",
              "    </g>\n",
              "</svg>\n",
              "      </button>\n",
              "\n",
              "<style>\n",
              "  .colab-df-quickchart {\n",
              "      --bg-color: #E8F0FE;\n",
              "      --fill-color: #1967D2;\n",
              "      --hover-bg-color: #E2EBFA;\n",
              "      --hover-fill-color: #174EA6;\n",
              "      --disabled-fill-color: #AAA;\n",
              "      --disabled-bg-color: #DDD;\n",
              "  }\n",
              "\n",
              "  [theme=dark] .colab-df-quickchart {\n",
              "      --bg-color: #3B4455;\n",
              "      --fill-color: #D2E3FC;\n",
              "      --hover-bg-color: #434B5C;\n",
              "      --hover-fill-color: #FFFFFF;\n",
              "      --disabled-bg-color: #3B4455;\n",
              "      --disabled-fill-color: #666;\n",
              "  }\n",
              "\n",
              "  .colab-df-quickchart {\n",
              "    background-color: var(--bg-color);\n",
              "    border: none;\n",
              "    border-radius: 50%;\n",
              "    cursor: pointer;\n",
              "    display: none;\n",
              "    fill: var(--fill-color);\n",
              "    height: 32px;\n",
              "    padding: 0;\n",
              "    width: 32px;\n",
              "  }\n",
              "\n",
              "  .colab-df-quickchart:hover {\n",
              "    background-color: var(--hover-bg-color);\n",
              "    box-shadow: 0 1px 2px rgba(60, 64, 67, 0.3), 0 1px 3px 1px rgba(60, 64, 67, 0.15);\n",
              "    fill: var(--button-hover-fill-color);\n",
              "  }\n",
              "\n",
              "  .colab-df-quickchart-complete:disabled,\n",
              "  .colab-df-quickchart-complete:disabled:hover {\n",
              "    background-color: var(--disabled-bg-color);\n",
              "    fill: var(--disabled-fill-color);\n",
              "    box-shadow: none;\n",
              "  }\n",
              "\n",
              "  .colab-df-spinner {\n",
              "    border: 2px solid var(--fill-color);\n",
              "    border-color: transparent;\n",
              "    border-bottom-color: var(--fill-color);\n",
              "    animation:\n",
              "      spin 1s steps(1) infinite;\n",
              "  }\n",
              "\n",
              "  @keyframes spin {\n",
              "    0% {\n",
              "      border-color: transparent;\n",
              "      border-bottom-color: var(--fill-color);\n",
              "      border-left-color: var(--fill-color);\n",
              "    }\n",
              "    20% {\n",
              "      border-color: transparent;\n",
              "      border-left-color: var(--fill-color);\n",
              "      border-top-color: var(--fill-color);\n",
              "    }\n",
              "    30% {\n",
              "      border-color: transparent;\n",
              "      border-left-color: var(--fill-color);\n",
              "      border-top-color: var(--fill-color);\n",
              "      border-right-color: var(--fill-color);\n",
              "    }\n",
              "    40% {\n",
              "      border-color: transparent;\n",
              "      border-right-color: var(--fill-color);\n",
              "      border-top-color: var(--fill-color);\n",
              "    }\n",
              "    60% {\n",
              "      border-color: transparent;\n",
              "      border-right-color: var(--fill-color);\n",
              "    }\n",
              "    80% {\n",
              "      border-color: transparent;\n",
              "      border-right-color: var(--fill-color);\n",
              "      border-bottom-color: var(--fill-color);\n",
              "    }\n",
              "    90% {\n",
              "      border-color: transparent;\n",
              "      border-bottom-color: var(--fill-color);\n",
              "    }\n",
              "  }\n",
              "</style>\n",
              "\n",
              "      <script>\n",
              "        async function quickchart(key) {\n",
              "          const quickchartButtonEl =\n",
              "            document.querySelector('#' + key + ' button');\n",
              "          quickchartButtonEl.disabled = true;  // To prevent multiple clicks.\n",
              "          quickchartButtonEl.classList.add('colab-df-spinner');\n",
              "          try {\n",
              "            const charts = await google.colab.kernel.invokeFunction(\n",
              "                'suggestCharts', [key], {});\n",
              "          } catch (error) {\n",
              "            console.error('Error during call to suggestCharts:', error);\n",
              "          }\n",
              "          quickchartButtonEl.classList.remove('colab-df-spinner');\n",
              "          quickchartButtonEl.classList.add('colab-df-quickchart-complete');\n",
              "        }\n",
              "        (() => {\n",
              "          let quickchartButtonEl =\n",
              "            document.querySelector('#df-f6709bfd-252f-4b2d-a724-9333290d157f button');\n",
              "          quickchartButtonEl.style.display =\n",
              "            google.colab.kernel.accessAllowed ? 'block' : 'none';\n",
              "        })();\n",
              "      </script>\n",
              "    </div>\n",
              "\n",
              "    </div>\n",
              "  </div>\n"
            ],
            "application/vnd.google.colaboratory.intrinsic+json": {
              "type": "dataframe",
              "variable_name": "df",
              "summary": "{\n  \"name\": \"df\",\n  \"rows\": 100,\n  \"fields\": [\n    {\n      \"column\": \"X\",\n      \"properties\": {\n        \"dtype\": \"number\",\n        \"std\": 0.8912634114247282,\n        \"min\": -1.32,\n        \"max\": 2.18,\n        \"num_unique_values\": 97,\n        \"samples\": [\n          0.127,\n          1.52,\n          0.219\n        ],\n        \"semantic_type\": \"\",\n        \"description\": \"\"\n      }\n    },\n    {\n      \"column\": \"Y\",\n      \"properties\": {\n        \"dtype\": \"number\",\n        \"std\": 0.5930233063379892,\n        \"min\": -1.04,\n        \"max\": 1.57,\n        \"num_unique_values\": 98,\n        \"samples\": [\n          -0.38,\n          -0.394,\n          -0.653\n        ],\n        \"semantic_type\": \"\",\n        \"description\": \"\"\n      }\n    },\n    {\n      \"column\": \"class\",\n      \"properties\": {\n        \"dtype\": \"number\",\n        \"std\": 0.502518907629606,\n        \"min\": 0.0,\n        \"max\": 1.0,\n        \"num_unique_values\": 2,\n        \"samples\": [\n          1.0,\n          0.0\n        ],\n        \"semantic_type\": \"\",\n        \"description\": \"\"\n      }\n    }\n  ]\n}"
            }
          },
          "metadata": {},
          "execution_count": 3
        }
      ]
    },
    {
      "cell_type": "code",
      "source": [
        "plt.scatter(df['X'],df['Y'],c=df['class'])"
      ],
      "metadata": {
        "colab": {
          "base_uri": "https://localhost:8080/",
          "height": 447
        },
        "id": "OjNZQln--RT-",
        "outputId": "e29ccc36-6df4-4f7b-d0b6-7716ff9d9770"
      },
      "execution_count": null,
      "outputs": [
        {
          "output_type": "execute_result",
          "data": {
            "text/plain": [
              "<matplotlib.collections.PathCollection at 0x790385e19410>"
            ]
          },
          "metadata": {},
          "execution_count": 4
        },
        {
          "output_type": "display_data",
          "data": {
            "text/plain": [
              "<Figure size 640x480 with 1 Axes>"
            ],
            "image/png": "[encoded data removed]"
          },
          "metadata": {}
        }
      ]
    },
    {
      "cell_type": "code",
      "source": [
        "X = df.iloc[:,0:2].values\n",
        "y = df.iloc[:,-1].values"
      ],
      "metadata": {
        "id": "-FWyh-iT-bY9"
      },
      "execution_count": null,
      "outputs": []
    },
    {
      "cell_type": "code",
      "source": [
        "import tensorflow\n",
        "from tensorflow import keras\n",
        "from keras import Sequential\n",
        "from keras.layers import Dense"
      ],
      "metadata": {
        "id": "sT4S8d1_-mdN"
      },
      "execution_count": null,
      "outputs": []
    },
    {
      "cell_type": "code",
      "source": [
        "model = Sequential()\n",
        "\n",
        "model.add(Dense(10,activation = 'relu', input_dim = 2, kernel_initializer = 'he_normal'))\n",
        "model.add(Dense(10,activation = 'relu', kernel_initializer = 'he_normal'))\n",
        "model.add(Dense(10,activation = 'relu', kernel_initializer = 'he_normal'))\n",
        "model.add(Dense(10,activation = 'relu', kernel_initializer = 'he_normal'))\n",
        "model.add(Dense(1,activation = 'sigmoid'))\n",
        "\n"
      ],
      "metadata": {
        "colab": {
          "base_uri": "https://localhost:8080/"
        },
        "id": "psg5JbRY-wYN",
        "outputId": "6fa7e4be-5f14-4410-a858-bdd30229b074"
      },
      "execution_count": null,
      "outputs": [
        {
          "output_type": "stream",
          "name": "stderr",
          "text": [
            "/usr/local/lib/python3.11/dist-packages/keras/src/layers/core/dense.py:87: UserWarning: Do not pass an `input_shape`/`input_dim` argument to a layer. When using Sequential models, prefer using an `Input(shape)` object as the first layer in the model instead.\n",
            "  super().__init__(activity_regularizer=activity_regularizer, **kwargs)\n"
          ]
        }
      ]
    },
    {
      "cell_type": "code",
      "source": [
        "model.summary()"
      ],
      "metadata": {
        "colab": {
          "base_uri": "https://localhost:8080/",
          "height": 306
        },
        "id": "rsg8m2oR--vN",
        "outputId": "c80cfdc3-4e3c-44f3-d9a4-2c1d5e94bf59"
      },
      "execution_count": null,
      "outputs": [
        {
          "output_type": "display_data",
          "data": {
            "text/plain": [
              "\u001b[1mModel: \"sequential\"\u001b[0m\n"
            ],
            "text/html": [
              "<pre style=\"white-space:pre;overflow-x:auto;line-height:normal;font-family:Menlo,'DejaVu Sans Mono',consolas,'Courier New',monospace\"><span style=\"font-weight: bold\">Model: \"sequential\"</span>\n",
              "</pre>\n"
            ]
          },
          "metadata": {}
        },
        {
          "output_type": "display_data",
          "data": {
            "text/plain": [
              "┏━━━━━━━━━━━━━━━━━━━━━━━━━━━━━━━━━┳━━━━━━━━━━━━━━━━━━━━━━━━┳━━━━━━━━━━━━━━━┓\n",
              "┃\u001b[1m \u001b[0m\u001b[1mLayer (type)                   \u001b[0m\u001b[1m \u001b[0m┃\u001b[1m \u001b[0m\u001b[1mOutput Shape          \u001b[0m\u001b[1m \u001b[0m┃\u001b[1m \u001b[0m\u001b[1m      Param #\u001b[0m\u001b[1m \u001b[0m┃\n",
              "┡━━━━━━━━━━━━━━━━━━━━━━━━━━━━━━━━━╇━━━━━━━━━━━━━━━━━━━━━━━━╇━━━━━━━━━━━━━━━┩\n",
              "│ dense (\u001b[38;5;33mDense\u001b[0m)                   │ (\u001b[38;5;45mNone\u001b[0m, \u001b[38;5;34m10\u001b[0m)             │            \u001b[38;5;34m30\u001b[0m │\n",
              "├─────────────────────────────────┼────────────────────────┼───────────────┤\n",
              "│ dense_1 (\u001b[38;5;33mDense\u001b[0m)                 │ (\u001b[38;5;45mNone\u001b[0m, \u001b[38;5;34m10\u001b[0m)             │           \u001b[38;5;34m110\u001b[0m │\n",
              "├─────────────────────────────────┼────────────────────────┼───────────────┤\n",
              "│ dense_2 (\u001b[38;5;33mDense\u001b[0m)                 │ (\u001b[38;5;45mNone\u001b[0m, \u001b[38;5;34m10\u001b[0m)             │           \u001b[38;5;34m110\u001b[0m │\n",
              "├─────────────────────────────────┼────────────────────────┼───────────────┤\n",
              "│ dense_3 (\u001b[38;5;33mDense\u001b[0m)                 │ (\u001b[38;5;45mNone\u001b[0m, \u001b[38;5;34m10\u001b[0m)             │           \u001b[38;5;34m110\u001b[0m │\n",
              "├─────────────────────────────────┼────────────────────────┼───────────────┤\n",
              "│ dense_4 (\u001b[38;5;33mDense\u001b[0m)                 │ (\u001b[38;5;45mNone\u001b[0m, \u001b[38;5;34m1\u001b[0m)              │            \u001b[38;5;34m11\u001b[0m │\n",
              "└─────────────────────────────────┴────────────────────────┴───────────────┘\n"
            ],
            "text/html": [
              "<pre style=\"white-space:pre;overflow-x:auto;line-height:normal;font-family:Menlo,'DejaVu Sans Mono',consolas,'Courier New',monospace\">┏━━━━━━━━━━━━━━━━━━━━━━━━━━━━━━━━━┳━━━━━━━━━━━━━━━━━━━━━━━━┳━━━━━━━━━━━━━━━┓\n",
              "┃<span style=\"font-weight: bold\"> Layer (type)                    </span>┃<span style=\"font-weight: bold\"> Output Shape           </span>┃<span style=\"font-weight: bold\">       Param # </span>┃\n",
              "┡━━━━━━━━━━━━━━━━━━━━━━━━━━━━━━━━━╇━━━━━━━━━━━━━━━━━━━━━━━━╇━━━━━━━━━━━━━━━┩\n",
              "│ dense (<span style=\"color: #0087ff; text-decoration-color: #0087ff\">Dense</span>)                   │ (<span style=\"color: #00d7ff; text-decoration-color: #00d7ff\">None</span>, <span style=\"color: #00af00; text-decoration-color: #00af00\">10</span>)             │            <span style=\"color: #00af00; text-decoration-color: #00af00\">30</span> │\n",
              "├─────────────────────────────────┼────────────────────────┼───────────────┤\n",
              "│ dense_1 (<span style=\"color: #0087ff; text-decoration-color: #0087ff\">Dense</span>)                 │ (<span style=\"color: #00d7ff; text-decoration-color: #00d7ff\">None</span>, <span style=\"color: #00af00; text-decoration-color: #00af00\">10</span>)             │           <span style=\"color: #00af00; text-decoration-color: #00af00\">110</span> │\n",
              "├─────────────────────────────────┼────────────────────────┼───────────────┤\n",
              "│ dense_2 (<span style=\"color: #0087ff; text-decoration-color: #0087ff\">Dense</span>)                 │ (<span style=\"color: #00d7ff; text-decoration-color: #00d7ff\">None</span>, <span style=\"color: #00af00; text-decoration-color: #00af00\">10</span>)             │           <span style=\"color: #00af00; text-decoration-color: #00af00\">110</span> │\n",
              "├─────────────────────────────────┼────────────────────────┼───────────────┤\n",
              "│ dense_3 (<span style=\"color: #0087ff; text-decoration-color: #0087ff\">Dense</span>)                 │ (<span style=\"color: #00d7ff; text-decoration-color: #00d7ff\">None</span>, <span style=\"color: #00af00; text-decoration-color: #00af00\">10</span>)             │           <span style=\"color: #00af00; text-decoration-color: #00af00\">110</span> │\n",
              "├─────────────────────────────────┼────────────────────────┼───────────────┤\n",
              "│ dense_4 (<span style=\"color: #0087ff; text-decoration-color: #0087ff\">Dense</span>)                 │ (<span style=\"color: #00d7ff; text-decoration-color: #00d7ff\">None</span>, <span style=\"color: #00af00; text-decoration-color: #00af00\">1</span>)              │            <span style=\"color: #00af00; text-decoration-color: #00af00\">11</span> │\n",
              "└─────────────────────────────────┴────────────────────────┴───────────────┘\n",
              "</pre>\n"
            ]
          },
          "metadata": {}
        },
        {
          "output_type": "display_data",
          "data": {
            "text/plain": [
              "\u001b[1m Total params: \u001b[0m\u001b[38;5;34m371\u001b[0m (1.45 KB)\n"
            ],
            "text/html": [
              "<pre style=\"white-space:pre;overflow-x:auto;line-height:normal;font-family:Menlo,'DejaVu Sans Mono',consolas,'Courier New',monospace\"><span style=\"font-weight: bold\"> Total params: </span><span style=\"color: #00af00; text-decoration-color: #00af00\">371</span> (1.45 KB)\n",
              "</pre>\n"
            ]
          },
          "metadata": {}
        },
        {
          "output_type": "display_data",
          "data": {
            "text/plain": [
              "\u001b[1m Trainable params: \u001b[0m\u001b[38;5;34m371\u001b[0m (1.45 KB)\n"
            ],
            "text/html": [
              "<pre style=\"white-space:pre;overflow-x:auto;line-height:normal;font-family:Menlo,'DejaVu Sans Mono',consolas,'Courier New',monospace\"><span style=\"font-weight: bold\"> Trainable params: </span><span style=\"color: #00af00; text-decoration-color: #00af00\">371</span> (1.45 KB)\n",
              "</pre>\n"
            ]
          },
          "metadata": {}
        },
        {
          "output_type": "display_data",
          "data": {
            "text/plain": [
              "\u001b[1m Non-trainable params: \u001b[0m\u001b[38;5;34m0\u001b[0m (0.00 B)\n"
            ],
            "text/html": [
              "<pre style=\"white-space:pre;overflow-x:auto;line-height:normal;font-family:Menlo,'DejaVu Sans Mono',consolas,'Courier New',monospace\"><span style=\"font-weight: bold\"> Non-trainable params: </span><span style=\"color: #00af00; text-decoration-color: #00af00\">0</span> (0.00 B)\n",
              "</pre>\n"
            ]
          },
          "metadata": {}
        }
      ]
    },
    {
      "cell_type": "code",
      "source": [
        "initial_weights = model.get_weights()"
      ],
      "metadata": {
        "id": "wQecQVn-_Aed"
      },
      "execution_count": null,
      "outputs": []
    },
    {
      "cell_type": "code",
      "source": [
        "initial_weights"
      ],
      "metadata": {
        "colab": {
          "base_uri": "https://localhost:8080/"
        },
        "id": "S8ogcRZMXai4",
        "outputId": "44a80e99-3312-4157-ca50-a4b075f74dbd"
      },
      "execution_count": null,
      "outputs": [
        {
          "output_type": "execute_result",
          "data": {
            "text/plain": [
              "[array([[ 0.30711696,  0.20988482, -0.8582244 , -0.91338676, -0.28639635,\n",
              "          0.4126046 ,  0.4681182 , -0.20600408,  1.1601539 ,  0.463562  ],\n",
              "        [ 0.38938347, -0.67244214,  0.3251929 ,  0.14606115,  0.68334347,\n",
              "         -1.1203492 , -1.4829204 , -1.4118407 ,  0.56095034, -0.11685809]],\n",
              "       dtype=float32),\n",
              " array([0., 0., 0., 0., 0., 0., 0., 0., 0., 0.], dtype=float32),\n",
              " array([[ 0.6929852 ,  0.25381443,  0.32537043,  0.08461145, -0.45673338,\n",
              "          0.7635966 ,  0.24428038,  0.56571835, -0.46772307, -0.40444255],\n",
              "        [-0.6171872 ,  0.96788675,  0.50573343, -0.26962844,  0.59353054,\n",
              "         -0.33966884,  0.5334084 ,  0.2891067 , -0.45823517, -0.37304485],\n",
              "        [ 0.7627668 ,  0.09179501,  0.7936458 , -0.11063807, -0.15559453,\n",
              "          0.01575519,  0.3636294 , -0.16254957, -0.14930323,  0.15144865],\n",
              "        [-0.5449696 , -0.88670486, -0.5399614 ,  0.7914331 , -0.821931  ,\n",
              "         -0.44465518, -0.5952291 ,  0.33085647,  0.5626477 , -0.4883043 ],\n",
              "        [ 0.34213278,  0.31705928, -0.3981906 ,  0.36363852,  0.675331  ,\n",
              "          0.01734625, -0.53351235, -0.07375912, -0.12178741, -0.6320238 ],\n",
              "        [ 0.06560103,  0.4412874 , -0.20810607,  0.1387245 , -0.02053942,\n",
              "         -0.13346463, -0.09901939,  0.30520344,  0.21176866,  0.3539402 ],\n",
              "        [-0.79592526,  0.09030736,  0.17555289,  0.11377599, -0.00304141,\n",
              "         -0.3888613 , -0.07571125, -0.02958186,  0.79070914, -0.11903203],\n",
              "        [-0.1284027 , -0.43907174, -0.70258474,  1.0014449 , -0.6969801 ,\n",
              "         -0.5527115 , -0.09471603, -0.23431726,  0.1708891 ,  0.08580186],\n",
              "        [-0.18893422, -0.3839942 , -0.65170103,  0.06437854, -0.4683142 ,\n",
              "          0.02754187,  0.10892963,  0.55522716, -0.80965024, -0.47962528],\n",
              "        [ 0.5774434 , -0.15540935,  0.0588127 ,  0.34276885,  0.27544403,\n",
              "          0.06593695,  0.17412883, -0.27787885, -0.7189752 , -0.42481878]],\n",
              "       dtype=float32),\n",
              " array([0., 0., 0., 0., 0., 0., 0., 0., 0., 0.], dtype=float32),\n",
              " array([[ 0.22649638, -0.0983393 , -0.26988482, -0.49151635,  0.11483411,\n",
              "          0.81251425,  0.14541246,  0.5040713 , -0.68136615, -0.38651118],\n",
              "        [-0.23440745,  0.5120952 , -0.7595077 , -0.05534501,  0.4455724 ,\n",
              "         -0.5792761 , -0.23890519,  0.0991518 , -0.23015326, -0.04553647],\n",
              "        [ 0.31213173, -0.05868867, -0.39517814, -0.01875242, -0.46484947,\n",
              "         -0.10040472,  0.15050271,  0.1875376 , -0.08325099,  0.66677433],\n",
              "        [-0.2995338 , -0.8798656 ,  0.453248  ,  0.6133242 ,  0.29494378,\n",
              "          0.3713258 , -0.41440484, -0.8959251 ,  0.26292345, -0.619245  ],\n",
              "        [ 0.3088629 ,  0.0279812 ,  0.52368826,  0.25317454,  0.13122037,\n",
              "         -0.94842666,  0.02919969, -0.6684735 ,  0.23996189, -0.30347872],\n",
              "        [ 0.03730382, -0.26193258,  0.6206778 , -0.36153623, -0.1809345 ,\n",
              "          0.36461487,  0.0954707 ,  0.10938526, -0.10838633,  0.31132764],\n",
              "        [-0.04245604,  0.17117393, -0.30664694,  0.11279381,  0.13439254,\n",
              "          0.0271915 , -0.01688898,  0.41730046,  0.7029152 ,  0.30527154],\n",
              "        [-0.39918876, -0.37449768,  0.12404826, -0.24041022, -0.15591852,\n",
              "         -0.42880118,  0.08020875,  0.03821786, -0.8660189 , -0.0912757 ],\n",
              "        [-0.12522842,  0.2454545 , -0.79915786, -0.3035058 , -0.23003936,\n",
              "         -0.14573234,  0.1687421 , -0.69031936, -0.01362944, -0.7495164 ],\n",
              "        [-0.2545432 ,  0.02235483, -0.51661927,  0.67106247,  0.45709574,\n",
              "          0.19867775, -0.99575317,  0.17850284, -0.25411943, -0.13551562]],\n",
              "       dtype=float32),\n",
              " array([0., 0., 0., 0., 0., 0., 0., 0., 0., 0.], dtype=float32),\n",
              " array([[-0.05996921, -0.8296423 ,  0.00258202,  0.00844015,  0.608799  ,\n",
              "         -0.7229376 ,  0.68048584, -0.47210932, -0.4153178 , -0.5287573 ],\n",
              "        [-0.20815392, -0.04750499,  0.01925168, -0.3001733 , -0.32186568,\n",
              "         -0.7178668 , -0.06882192, -0.8824037 ,  0.52426577,  0.18197796],\n",
              "        [ 0.10303546, -0.9035837 , -0.06222881,  0.0353758 ,  0.04157668,\n",
              "          0.28733572, -0.98116493, -0.37789196, -0.30624843, -0.62818867],\n",
              "        [ 0.3084323 ,  0.7148706 , -0.42814162, -0.22047094,  0.07472299,\n",
              "         -0.69442636, -0.11159803, -0.20258203, -0.58140236,  0.6017396 ],\n",
              "        [-0.61289304, -0.42701632,  0.2561025 ,  0.09138878, -0.29227546,\n",
              "         -0.71039784,  0.10962263, -0.46457595, -0.6248399 ,  0.37330967],\n",
              "        [-0.11657333,  0.19883181,  0.38775858,  0.16309491, -0.5502767 ,\n",
              "          0.06562212, -0.7786938 ,  0.36165106, -0.36390802,  0.5430299 ],\n",
              "        [ 0.33838698, -0.14083157, -0.18918304,  0.43628728, -0.34583598,\n",
              "          0.32777166,  0.43344992,  1.0066346 ,  0.6945746 ,  0.73568916],\n",
              "        [-0.16265884, -0.20249517,  0.33119756,  0.2805149 ,  0.2827152 ,\n",
              "         -0.8870608 ,  0.42866942,  0.64460397,  0.4146077 , -0.5632442 ],\n",
              "        [ 0.27297533,  0.52448565, -0.52257603,  0.16043057,  0.27130803,\n",
              "          0.13620682,  0.11042964, -0.3680362 ,  0.04364081,  0.37235168],\n",
              "        [-0.5986889 ,  0.05497477,  0.35553524, -0.01698557, -0.13121037,\n",
              "          0.30205235, -0.14800443, -0.5683944 ,  0.6141802 ,  0.16211347]],\n",
              "       dtype=float32),\n",
              " array([0., 0., 0., 0., 0., 0., 0., 0., 0., 0.], dtype=float32),\n",
              " array([[ 0.54810077],\n",
              "        [-0.43283895],\n",
              "        [ 0.3025357 ],\n",
              "        [-0.04168308],\n",
              "        [ 0.35592657],\n",
              "        [ 0.14087814],\n",
              "        [-0.06989574],\n",
              "        [-0.2020123 ],\n",
              "        [ 0.13131112],\n",
              "        [ 0.37817186]], dtype=float32),\n",
              " array([0.], dtype=float32)]"
            ]
          },
          "metadata": {},
          "execution_count": 10
        }
      ]
    },
    {
      "cell_type": "code",
      "source": [
        "initial_weights[0] = np.random.randn(2,10) * np.sqrt(1/2)\n",
        "initial_weights[1] = np.zeros(model.get_weights()[1].shape)\n",
        "initial_weights[2] = np.random.randn(10,10) * np.sqrt(1/10)\n",
        "initial_weights[3] = np.zeros(model.get_weights()[3].shape)\n",
        "initial_weights[4] = np.random.randn(10,10) * np.sqrt(1/10)\n",
        "initial_weights[5] = np.zeros(model.get_weights()[5].shape)\n",
        "initial_weights[6] = np.random.randn(10,10) * np.sqrt(1/10)\n",
        "initial_weights[7] = np.zeros(model.get_weights()[7].shape)\n",
        "initial_weights[8] = np.random.randn(10,1) * np.sqrt(1/10)\n",
        "initial_weights[9] = np.zeros(model.get_weights()[9].shape)\n"
      ],
      "metadata": {
        "id": "FTiD_PBW_H8d"
      },
      "execution_count": null,
      "outputs": []
    },
    {
      "cell_type": "code",
      "source": [
        "model.set_weights(initial_weights)"
      ],
      "metadata": {
        "id": "-vxUhgrSDJLM"
      },
      "execution_count": null,
      "outputs": []
    },
    {
      "cell_type": "code",
      "source": [
        "model.get_weights()"
      ],
      "metadata": {
        "colab": {
          "base_uri": "https://localhost:8080/"
        },
        "id": "jG0Fxn_nDSAm",
        "outputId": "39934a7d-d65c-432b-fa49-2b9cb333dd73"
      },
      "execution_count": null,
      "outputs": [
        {
          "output_type": "execute_result",
          "data": {
            "text/plain": [
              "[array([[ 1.1439352 , -0.26126865,  0.5175914 , -0.7070707 ,  0.7324837 ,\n",
              "         -0.3765529 ,  0.06230009,  0.25823504,  0.65762734, -0.13453682],\n",
              "        [ 0.5634721 , -0.65507233,  0.67560476,  0.5971027 ,  0.40309665,\n",
              "          1.1455735 ,  0.80203265,  0.8906318 , -0.23156676, -0.29554158]],\n",
              "       dtype=float32),\n",
              " array([0., 0., 0., 0., 0., 0., 0., 0., 0., 0.], dtype=float32),\n",
              " array([[ 0.21609478, -0.46196917, -0.49756548, -0.18595055,  0.10604944,\n",
              "         -0.3403269 , -0.12133195, -0.11089728,  0.05791514,  0.19558236],\n",
              "        [ 0.05074552, -0.00854693,  0.59472805, -0.63014746, -0.36926693,\n",
              "          0.1324287 ,  0.351162  ,  0.40971157,  0.4126616 ,  0.31469005],\n",
              "        [ 0.28879738,  0.15247053,  0.6041732 ,  0.24726303,  0.13701184,\n",
              "         -0.18918292,  0.00369349,  0.37476584, -0.3468159 ,  0.07502634],\n",
              "        [-0.32097027,  0.05018533,  0.35879296, -0.27722725,  0.36943364,\n",
              "         -0.07859729, -0.10397564, -0.32429564,  0.02198415,  0.3601227 ],\n",
              "        [-0.21435687, -0.24430087, -0.42906433,  0.4940593 ,  0.3280284 ,\n",
              "         -0.74739146, -0.35801208, -0.5786455 , -0.08543036, -0.24152961],\n",
              "        [ 0.10232481, -0.3289423 , -0.04043368,  0.11600992, -0.13814896,\n",
              "          0.30849618,  0.5259    ,  0.3075068 , -0.6179491 , -0.44960463],\n",
              "        [-0.25330383,  0.22561337,  0.23521122, -0.4778202 , -0.11587687,\n",
              "          0.35420898,  0.18618459, -0.19418804, -0.3077781 , -0.6687554 ],\n",
              "        [-0.49814537,  0.0515484 ,  0.14168575,  0.151357  ,  0.3978643 ,\n",
              "          0.5494848 , -0.07342299,  0.10727382,  0.38479695,  0.12386522],\n",
              "        [ 0.0522854 , -0.14985007, -0.71557724,  0.24713914, -0.26116246,\n",
              "          0.32555988, -0.11018153,  0.8070151 , -0.04196318,  0.16669053],\n",
              "        [ 0.07110417,  0.49917716, -0.11269818, -0.15323058, -0.07775337,\n",
              "         -0.5170868 , -0.18295422, -0.1952838 ,  0.12171015,  0.14674938]],\n",
              "       dtype=float32),\n",
              " array([0., 0., 0., 0., 0., 0., 0., 0., 0., 0.], dtype=float32),\n",
              " array([[ 0.28761262,  0.20973182,  0.24098168, -0.09919735, -0.06709307,\n",
              "         -0.46662962,  0.08634464, -0.24505608,  0.35590154, -0.42571616],\n",
              "        [-0.03409903, -0.40383145,  0.21494505, -0.23440276,  0.15684852,\n",
              "          0.2986628 ,  0.29262823,  0.8764046 , -0.14973721, -0.45114017],\n",
              "        [ 0.09850626,  0.27615646, -0.3415133 , -0.6766318 , -0.08178319,\n",
              "          0.30403462, -0.1431609 ,  0.6453965 , -0.06275655,  0.6475896 ],\n",
              "        [ 0.18100244, -0.1319829 ,  0.11277868,  0.32101843, -0.22127546,\n",
              "          0.56828266, -0.32985526, -0.2704802 , -0.09023471, -0.33590856],\n",
              "        [-0.25077915, -0.63834476, -0.05848278, -0.05448368,  0.47454432,\n",
              "         -0.60492134,  0.08212397, -0.42560488,  0.35865033,  0.0515691 ],\n",
              "        [-0.10183955, -0.49716794, -0.07063664,  0.00712843,  0.12713413,\n",
              "          0.14880288,  0.14768805,  0.18975134,  0.09223853, -0.29168665],\n",
              "        [ 0.06833778,  0.09334274, -0.0093868 ,  0.7069093 ,  0.63550043,\n",
              "          0.06438786,  0.2723333 ,  0.20016155,  0.00637983, -0.3141359 ],\n",
              "        [-0.4162973 ,  0.3528774 , -0.27119023, -0.05553605,  0.3494939 ,\n",
              "          0.26674506, -0.09350087, -0.63681763, -0.44714093,  0.0047916 ],\n",
              "        [ 0.16604733, -0.41383743, -0.17923014,  0.19096883, -0.30411446,\n",
              "          0.22152187, -0.39213607,  0.15153642, -0.22040229,  0.06928854],\n",
              "        [-0.38734204,  0.41511568, -0.3453524 ,  0.555135  , -0.2406896 ,\n",
              "         -0.12123746, -0.13822699, -0.13828051,  0.55152214, -0.069829  ]],\n",
              "       dtype=float32),\n",
              " array([0., 0., 0., 0., 0., 0., 0., 0., 0., 0.], dtype=float32),\n",
              " array([[ 0.15865116, -0.27200824,  0.46622473, -0.24645375, -0.64786625,\n",
              "         -0.47890595, -0.11017455, -0.31262434, -0.03979145, -0.00505889],\n",
              "        [-0.00645527, -0.5898076 ,  0.09599737, -0.02753632, -0.26403394,\n",
              "          0.25870672, -0.32771197, -0.5150029 , -0.72164947,  0.2891906 ],\n",
              "        [-0.16147454, -0.17525598,  0.34919462,  0.04179313, -0.41592628,\n",
              "         -0.11348798,  0.7546042 ,  0.03987757,  0.2733957 , -0.29202512],\n",
              "        [-0.763548  ,  0.23545712, -0.14287546, -0.2506986 ,  0.23174325,\n",
              "          0.26459864, -0.34613803, -0.10860243,  0.56907165, -0.33479384],\n",
              "        [ 0.01086093, -0.56093556, -0.6193444 , -0.07280119,  0.17808223,\n",
              "          0.606736  , -0.02829202,  0.07296135, -0.16867182,  0.02381502],\n",
              "        [ 0.19013676,  0.21969475,  0.20512144,  0.20230402, -0.18004635,\n",
              "         -0.15294132, -0.34168112, -0.12317357, -0.4999928 , -0.28333735],\n",
              "        [-0.16800526,  0.5429451 ,  0.17817388, -0.28781262,  0.0514132 ,\n",
              "         -0.4474533 , -0.16319469, -0.04939704,  0.18544792,  0.62542933],\n",
              "        [ 0.58770996, -0.33981532,  0.5505024 ,  0.39284226, -0.0785787 ,\n",
              "         -0.228561  ,  0.02057714, -0.42631567,  0.03126753, -0.6815549 ],\n",
              "        [ 0.14368986, -0.50166166, -0.10983356, -0.24712941,  0.00634875,\n",
              "          0.34900486,  0.15831481, -0.16375744,  0.24085955,  0.01010487],\n",
              "        [-0.13473667, -0.01888781, -0.71455044, -0.14473934,  0.4947762 ,\n",
              "         -0.0389926 , -0.47257707,  0.06457805, -0.69402844,  0.1353936 ]],\n",
              "       dtype=float32),\n",
              " array([0., 0., 0., 0., 0., 0., 0., 0., 0., 0.], dtype=float32),\n",
              " array([[-0.24534765],\n",
              "        [ 0.50752705],\n",
              "        [ 0.36037478],\n",
              "        [ 0.5317614 ],\n",
              "        [ 0.02159251],\n",
              "        [-0.09300064],\n",
              "        [-1.067079  ],\n",
              "        [ 0.02560928],\n",
              "        [-0.21138808],\n",
              "        [-0.3058925 ]], dtype=float32),\n",
              " array([0.], dtype=float32)]"
            ]
          },
          "metadata": {},
          "execution_count": 13
        }
      ]
    },
    {
      "cell_type": "code",
      "source": [
        "model.compile(loss='binary_crossentropy', optimizer = \"adam\", metrics=['accuracy'])"
      ],
      "metadata": {
        "id": "XtnXely4DTva"
      },
      "execution_count": null,
      "outputs": []
    },
    {
      "cell_type": "code",
      "source": [
        "history = model.fit(X,y, epochs = 100, validation_split=0.2)"
      ],
      "metadata": {
        "colab": {
          "base_uri": "https://localhost:8080/"
        },
        "id": "mLRTbmFtUNLx",
        "outputId": "f9496701-8e27-4f59-a51f-6871733c1ea1"
      },
      "execution_count": null,
      "outputs": [
        {
          "output_type": "stream",
          "name": "stdout",
          "text": [
            "Epoch 1/100\n",
            "\u001b[1m3/3\u001b[0m \u001b[32m━━━━━━━━━━━━━━━━━━━━\u001b[0m\u001b[37m\u001b[0m \u001b[1m2s\u001b[0m 149ms/step - accuracy: 0.4969 - loss: 0.6914 - val_accuracy: 0.5500 - val_loss: 0.6886\n",
            "Epoch 2/100\n",
            "\u001b[1m3/3\u001b[0m \u001b[32m━━━━━━━━━━━━━━━━━━━━\u001b[0m\u001b[37m\u001b[0m \u001b[1m0s\u001b[0m 36ms/step - accuracy: 0.6461 - loss: 0.6874 - val_accuracy: 0.6000 - val_loss: 0.6856\n",
            "Epoch 3/100\n",
            "\u001b[1m3/3\u001b[0m \u001b[32m━━━━━━━━━━━━━━━━━━━━\u001b[0m\u001b[37m\u001b[0m \u001b[1m0s\u001b[0m 43ms/step - accuracy: 0.6656 - loss: 0.6876 - val_accuracy: 0.6500 - val_loss: 0.6820\n",
            "Epoch 4/100\n",
            "\u001b[1m3/3\u001b[0m \u001b[32m━━━━━━━━━━━━━━━━━━━━\u001b[0m\u001b[37m\u001b[0m \u001b[1m0s\u001b[0m 36ms/step - accuracy: 0.7156 - loss: 0.6831 - val_accuracy: 0.7500 - val_loss: 0.6778\n",
            "Epoch 5/100\n",
            "\u001b[1m3/3\u001b[0m \u001b[32m━━━━━━━━━━━━━━━━━━━━\u001b[0m\u001b[37m\u001b[0m \u001b[1m0s\u001b[0m 36ms/step - accuracy: 0.7453 - loss: 0.6809 - val_accuracy: 0.8000 - val_loss: 0.6737\n",
            "Epoch 6/100\n",
            "\u001b[1m3/3\u001b[0m \u001b[32m━━━━━━━━━━━━━━━━━━━━\u001b[0m\u001b[37m\u001b[0m \u001b[1m0s\u001b[0m 40ms/step - accuracy: 0.7398 - loss: 0.6777 - val_accuracy: 0.8000 - val_loss: 0.6691\n",
            "Epoch 7/100\n",
            "\u001b[1m3/3\u001b[0m \u001b[32m━━━━━━━━━━━━━━━━━━━━\u001b[0m\u001b[37m\u001b[0m \u001b[1m0s\u001b[0m 39ms/step - accuracy: 0.7727 - loss: 0.6742 - val_accuracy: 0.8500 - val_loss: 0.6643\n",
            "Epoch 8/100\n",
            "\u001b[1m3/3\u001b[0m \u001b[32m━━━━━━━━━━━━━━━━━━━━\u001b[0m\u001b[37m\u001b[0m \u001b[1m0s\u001b[0m 35ms/step - accuracy: 0.8227 - loss: 0.6704 - val_accuracy: 0.8500 - val_loss: 0.6595\n",
            "Epoch 9/100\n",
            "\u001b[1m3/3\u001b[0m \u001b[32m━━━━━━━━━━━━━━━━━━━━\u001b[0m\u001b[37m\u001b[0m \u001b[1m0s\u001b[0m 38ms/step - accuracy: 0.7930 - loss: 0.6682 - val_accuracy: 0.8500 - val_loss: 0.6549\n",
            "Epoch 10/100\n",
            "\u001b[1m3/3\u001b[0m \u001b[32m━━━━━━━━━━━━━━━━━━━━\u001b[0m\u001b[37m\u001b[0m \u001b[1m0s\u001b[0m 37ms/step - accuracy: 0.8047 - loss: 0.6640 - val_accuracy: 0.8500 - val_loss: 0.6500\n",
            "Epoch 11/100\n",
            "\u001b[1m3/3\u001b[0m \u001b[32m━━━━━━━━━━━━━━━━━━━━\u001b[0m\u001b[37m\u001b[0m \u001b[1m0s\u001b[0m 44ms/step - accuracy: 0.8148 - loss: 0.6582 - val_accuracy: 0.8500 - val_loss: 0.6449\n",
            "Epoch 12/100\n",
            "\u001b[1m3/3\u001b[0m \u001b[32m━━━━━━━━━━━━━━━━━━━━\u001b[0m\u001b[37m\u001b[0m \u001b[1m0s\u001b[0m 39ms/step - accuracy: 0.8742 - loss: 0.6485 - val_accuracy: 0.8000 - val_loss: 0.6395\n",
            "Epoch 13/100\n",
            "\u001b[1m3/3\u001b[0m \u001b[32m━━━━━━━━━━━━━━━━━━━━\u001b[0m\u001b[37m\u001b[0m \u001b[1m0s\u001b[0m 36ms/step - accuracy: 0.8273 - loss: 0.6482 - val_accuracy: 0.8000 - val_loss: 0.6336\n",
            "Epoch 14/100\n",
            "\u001b[1m3/3\u001b[0m \u001b[32m━━━━━━━━━━━━━━━━━━━━\u001b[0m\u001b[37m\u001b[0m \u001b[1m0s\u001b[0m 58ms/step - accuracy: 0.8422 - loss: 0.6387 - val_accuracy: 0.8500 - val_loss: 0.6273\n",
            "Epoch 15/100\n",
            "\u001b[1m3/3\u001b[0m \u001b[32m━━━━━━━━━━━━━━━━━━━━\u001b[0m\u001b[37m\u001b[0m \u001b[1m0s\u001b[0m 39ms/step - accuracy: 0.8523 - loss: 0.6307 - val_accuracy: 0.8500 - val_loss: 0.6212\n",
            "Epoch 16/100\n",
            "\u001b[1m3/3\u001b[0m \u001b[32m━━━━━━━━━━━━━━━━━━━━\u001b[0m\u001b[37m\u001b[0m \u001b[1m0s\u001b[0m 39ms/step - accuracy: 0.8031 - loss: 0.6342 - val_accuracy: 0.8500 - val_loss: 0.6147\n",
            "Epoch 17/100\n",
            "\u001b[1m3/3\u001b[0m \u001b[32m━━━━━━━━━━━━━━━━━━━━\u001b[0m\u001b[37m\u001b[0m \u001b[1m0s\u001b[0m 38ms/step - accuracy: 0.8305 - loss: 0.6202 - val_accuracy: 0.8500 - val_loss: 0.6077\n",
            "Epoch 18/100\n",
            "\u001b[1m3/3\u001b[0m \u001b[32m━━━━━━━━━━━━━━━━━━━━\u001b[0m\u001b[37m\u001b[0m \u001b[1m0s\u001b[0m 36ms/step - accuracy: 0.8242 - loss: 0.6105 - val_accuracy: 0.8000 - val_loss: 0.5998\n",
            "Epoch 19/100\n",
            "\u001b[1m3/3\u001b[0m \u001b[32m━━━━━━━━━━━━━━━━━━━━\u001b[0m\u001b[37m\u001b[0m \u001b[1m0s\u001b[0m 43ms/step - accuracy: 0.7891 - loss: 0.6155 - val_accuracy: 0.8000 - val_loss: 0.5915\n",
            "Epoch 20/100\n",
            "\u001b[1m3/3\u001b[0m \u001b[32m━━━━━━━━━━━━━━━━━━━━\u001b[0m\u001b[37m\u001b[0m \u001b[1m0s\u001b[0m 41ms/step - accuracy: 0.8266 - loss: 0.6000 - val_accuracy: 0.8000 - val_loss: 0.5821\n",
            "Epoch 21/100\n",
            "\u001b[1m3/3\u001b[0m \u001b[32m━━━━━━━━━━━━━━━━━━━━\u001b[0m\u001b[37m\u001b[0m \u001b[1m0s\u001b[0m 39ms/step - accuracy: 0.8242 - loss: 0.5891 - val_accuracy: 0.8000 - val_loss: 0.5723\n",
            "Epoch 22/100\n",
            "\u001b[1m3/3\u001b[0m \u001b[32m━━━━━━━━━━━━━━━━━━━━\u001b[0m\u001b[37m\u001b[0m \u001b[1m0s\u001b[0m 39ms/step - accuracy: 0.8383 - loss: 0.5808 - val_accuracy: 0.8500 - val_loss: 0.5619\n",
            "Epoch 23/100\n",
            "\u001b[1m3/3\u001b[0m \u001b[32m━━━━━━━━━━━━━━━━━━━━\u001b[0m\u001b[37m\u001b[0m \u001b[1m0s\u001b[0m 38ms/step - accuracy: 0.8109 - loss: 0.5772 - val_accuracy: 0.8500 - val_loss: 0.5511\n",
            "Epoch 24/100\n",
            "\u001b[1m3/3\u001b[0m \u001b[32m━━━━━━━━━━━━━━━━━━━━\u001b[0m\u001b[37m\u001b[0m \u001b[1m0s\u001b[0m 37ms/step - accuracy: 0.8406 - loss: 0.5663 - val_accuracy: 0.8500 - val_loss: 0.5399\n",
            "Epoch 25/100\n",
            "\u001b[1m3/3\u001b[0m \u001b[32m━━━━━━━━━━━━━━━━━━━━\u001b[0m\u001b[37m\u001b[0m \u001b[1m0s\u001b[0m 37ms/step - accuracy: 0.8586 - loss: 0.5518 - val_accuracy: 0.9000 - val_loss: 0.5286\n",
            "Epoch 26/100\n",
            "\u001b[1m3/3\u001b[0m \u001b[32m━━━━━━━━━━━━━━━━━━━━\u001b[0m\u001b[37m\u001b[0m \u001b[1m0s\u001b[0m 40ms/step - accuracy: 0.8664 - loss: 0.5458 - val_accuracy: 0.9000 - val_loss: 0.5173\n",
            "Epoch 27/100\n",
            "\u001b[1m3/3\u001b[0m \u001b[32m━━━━━━━━━━━━━━━━━━━━\u001b[0m\u001b[37m\u001b[0m \u001b[1m0s\u001b[0m 36ms/step - accuracy: 0.8469 - loss: 0.5420 - val_accuracy: 0.9000 - val_loss: 0.5058\n",
            "Epoch 28/100\n",
            "\u001b[1m3/3\u001b[0m \u001b[32m━━━━━━━━━━━━━━━━━━━━\u001b[0m\u001b[37m\u001b[0m \u001b[1m0s\u001b[0m 56ms/step - accuracy: 0.8367 - loss: 0.5255 - val_accuracy: 0.9000 - val_loss: 0.4937\n",
            "Epoch 29/100\n",
            "\u001b[1m3/3\u001b[0m \u001b[32m━━━━━━━━━━━━━━━━━━━━\u001b[0m\u001b[37m\u001b[0m \u001b[1m0s\u001b[0m 37ms/step - accuracy: 0.8758 - loss: 0.4992 - val_accuracy: 0.9000 - val_loss: 0.4821\n",
            "Epoch 30/100\n",
            "\u001b[1m3/3\u001b[0m \u001b[32m━━━━━━━━━━━━━━━━━━━━\u001b[0m\u001b[37m\u001b[0m \u001b[1m0s\u001b[0m 37ms/step - accuracy: 0.8406 - loss: 0.5013 - val_accuracy: 0.9000 - val_loss: 0.4708\n",
            "Epoch 31/100\n",
            "\u001b[1m3/3\u001b[0m \u001b[32m━━━━━━━━━━━━━━━━━━━━\u001b[0m\u001b[37m\u001b[0m \u001b[1m0s\u001b[0m 36ms/step - accuracy: 0.8445 - loss: 0.4989 - val_accuracy: 0.9000 - val_loss: 0.4592\n",
            "Epoch 32/100\n",
            "\u001b[1m3/3\u001b[0m \u001b[32m━━━━━━━━━━━━━━━━━━━━\u001b[0m\u001b[37m\u001b[0m \u001b[1m0s\u001b[0m 37ms/step - accuracy: 0.8641 - loss: 0.4742 - val_accuracy: 0.9500 - val_loss: 0.4476\n",
            "Epoch 33/100\n",
            "\u001b[1m3/3\u001b[0m \u001b[32m━━━━━━━━━━━━━━━━━━━━\u001b[0m\u001b[37m\u001b[0m \u001b[1m0s\u001b[0m 37ms/step - accuracy: 0.8484 - loss: 0.4752 - val_accuracy: 0.9500 - val_loss: 0.4361\n",
            "Epoch 34/100\n",
            "\u001b[1m3/3\u001b[0m \u001b[32m━━━━━━━━━━━━━━━━━━━━\u001b[0m\u001b[37m\u001b[0m \u001b[1m0s\u001b[0m 40ms/step - accuracy: 0.8250 - loss: 0.4790 - val_accuracy: 0.9500 - val_loss: 0.4248\n",
            "Epoch 35/100\n",
            "\u001b[1m3/3\u001b[0m \u001b[32m━━━━━━━━━━━━━━━━━━━━\u001b[0m\u001b[37m\u001b[0m \u001b[1m0s\u001b[0m 58ms/step - accuracy: 0.8406 - loss: 0.4494 - val_accuracy: 0.9500 - val_loss: 0.4131\n",
            "Epoch 36/100\n",
            "\u001b[1m3/3\u001b[0m \u001b[32m━━━━━━━━━━━━━━━━━━━━\u001b[0m\u001b[37m\u001b[0m \u001b[1m0s\u001b[0m 37ms/step - accuracy: 0.8211 - loss: 0.4677 - val_accuracy: 0.9500 - val_loss: 0.4021\n",
            "Epoch 37/100\n",
            "\u001b[1m3/3\u001b[0m \u001b[32m━━━━━━━━━━━━━━━━━━━━\u001b[0m\u001b[37m\u001b[0m \u001b[1m0s\u001b[0m 38ms/step - accuracy: 0.8133 - loss: 0.4651 - val_accuracy: 0.9500 - val_loss: 0.3911\n",
            "Epoch 38/100\n",
            "\u001b[1m3/3\u001b[0m \u001b[32m━━━━━━━━━━━━━━━━━━━━\u001b[0m\u001b[37m\u001b[0m \u001b[1m0s\u001b[0m 53ms/step - accuracy: 0.8313 - loss: 0.4461 - val_accuracy: 0.9500 - val_loss: 0.3801\n",
            "Epoch 39/100\n",
            "\u001b[1m3/3\u001b[0m \u001b[32m━━━━━━━━━━━━━━━━━━━━\u001b[0m\u001b[37m\u001b[0m \u001b[1m0s\u001b[0m 37ms/step - accuracy: 0.8523 - loss: 0.4271 - val_accuracy: 0.9500 - val_loss: 0.3694\n",
            "Epoch 40/100\n",
            "\u001b[1m3/3\u001b[0m \u001b[32m━━━━━━━━━━━━━━━━━━━━\u001b[0m\u001b[37m\u001b[0m \u001b[1m0s\u001b[0m 37ms/step - accuracy: 0.8289 - loss: 0.4279 - val_accuracy: 0.9500 - val_loss: 0.3595\n",
            "Epoch 41/100\n",
            "\u001b[1m3/3\u001b[0m \u001b[32m━━━━━━━━━━━━━━━━━━━━\u001b[0m\u001b[37m\u001b[0m \u001b[1m0s\u001b[0m 36ms/step - accuracy: 0.8406 - loss: 0.4150 - val_accuracy: 0.9500 - val_loss: 0.3501\n",
            "Epoch 42/100\n",
            "\u001b[1m3/3\u001b[0m \u001b[32m━━━━━━━━━━━━━━━━━━━━\u001b[0m\u001b[37m\u001b[0m \u001b[1m0s\u001b[0m 57ms/step - accuracy: 0.8250 - loss: 0.4430 - val_accuracy: 0.9500 - val_loss: 0.3412\n",
            "Epoch 43/100\n",
            "\u001b[1m3/3\u001b[0m \u001b[32m━━━━━━━━━━━━━━━━━━━━\u001b[0m\u001b[37m\u001b[0m \u001b[1m0s\u001b[0m 63ms/step - accuracy: 0.8328 - loss: 0.4146 - val_accuracy: 0.9500 - val_loss: 0.3326\n",
            "Epoch 44/100\n",
            "\u001b[1m3/3\u001b[0m \u001b[32m━━━━━━━━━━━━━━━━━━━━\u001b[0m\u001b[37m\u001b[0m \u001b[1m0s\u001b[0m 57ms/step - accuracy: 0.8523 - loss: 0.3920 - val_accuracy: 0.9500 - val_loss: 0.3244\n",
            "Epoch 45/100\n",
            "\u001b[1m3/3\u001b[0m \u001b[32m━━━━━━━━━━━━━━━━━━━━\u001b[0m\u001b[37m\u001b[0m \u001b[1m0s\u001b[0m 66ms/step - accuracy: 0.8484 - loss: 0.3949 - val_accuracy: 0.9500 - val_loss: 0.3172\n",
            "Epoch 46/100\n",
            "\u001b[1m3/3\u001b[0m \u001b[32m━━━━━━━━━━━━━━━━━━━━\u001b[0m\u001b[37m\u001b[0m \u001b[1m0s\u001b[0m 56ms/step - accuracy: 0.8703 - loss: 0.3686 - val_accuracy: 0.9500 - val_loss: 0.3105\n",
            "Epoch 47/100\n",
            "\u001b[1m3/3\u001b[0m \u001b[32m━━━━━━━━━━━━━━━━━━━━\u001b[0m\u001b[37m\u001b[0m \u001b[1m0s\u001b[0m 50ms/step - accuracy: 0.8469 - loss: 0.4046 - val_accuracy: 0.9500 - val_loss: 0.3045\n",
            "Epoch 48/100\n",
            "\u001b[1m3/3\u001b[0m \u001b[32m━━━━━━━━━━━━━━━━━━━━\u001b[0m\u001b[37m\u001b[0m \u001b[1m0s\u001b[0m 77ms/step - accuracy: 0.8234 - loss: 0.4060 - val_accuracy: 0.9500 - val_loss: 0.2982\n",
            "Epoch 49/100\n",
            "\u001b[1m3/3\u001b[0m \u001b[32m━━━━━━━━━━━━━━━━━━━━\u001b[0m\u001b[37m\u001b[0m \u001b[1m0s\u001b[0m 52ms/step - accuracy: 0.8367 - loss: 0.3788 - val_accuracy: 0.9500 - val_loss: 0.2925\n",
            "Epoch 50/100\n",
            "\u001b[1m3/3\u001b[0m \u001b[32m━━━━━━━━━━━━━━━━━━━━\u001b[0m\u001b[37m\u001b[0m \u001b[1m0s\u001b[0m 56ms/step - accuracy: 0.8211 - loss: 0.3906 - val_accuracy: 0.9500 - val_loss: 0.2875\n",
            "Epoch 51/100\n",
            "\u001b[1m3/3\u001b[0m \u001b[32m━━━━━━━━━━━━━━━━━━━━\u001b[0m\u001b[37m\u001b[0m \u001b[1m0s\u001b[0m 72ms/step - accuracy: 0.8234 - loss: 0.4019 - val_accuracy: 0.9500 - val_loss: 0.2829\n",
            "Epoch 52/100\n",
            "\u001b[1m3/3\u001b[0m \u001b[32m━━━━━━━━━━━━━━━━━━━━\u001b[0m\u001b[37m\u001b[0m \u001b[1m0s\u001b[0m 49ms/step - accuracy: 0.8453 - loss: 0.4045 - val_accuracy: 0.9500 - val_loss: 0.2786\n",
            "Epoch 53/100\n",
            "\u001b[1m3/3\u001b[0m \u001b[32m━━━━━━━━━━━━━━━━━━━━\u001b[0m\u001b[37m\u001b[0m \u001b[1m0s\u001b[0m 37ms/step - accuracy: 0.8727 - loss: 0.3564 - val_accuracy: 0.9500 - val_loss: 0.2745\n",
            "Epoch 54/100\n",
            "\u001b[1m3/3\u001b[0m \u001b[32m━━━━━━━━━━━━━━━━━━━━\u001b[0m\u001b[37m\u001b[0m \u001b[1m0s\u001b[0m 35ms/step - accuracy: 0.8570 - loss: 0.3852 - val_accuracy: 0.9500 - val_loss: 0.2710\n",
            "Epoch 55/100\n",
            "\u001b[1m3/3\u001b[0m \u001b[32m━━━━━━━━━━━━━━━━━━━━\u001b[0m\u001b[37m\u001b[0m \u001b[1m0s\u001b[0m 36ms/step - accuracy: 0.8492 - loss: 0.4038 - val_accuracy: 0.9500 - val_loss: 0.2684\n",
            "Epoch 56/100\n",
            "\u001b[1m3/3\u001b[0m \u001b[32m━━━━━━━━━━━━━━━━━━━━\u001b[0m\u001b[37m\u001b[0m \u001b[1m0s\u001b[0m 38ms/step - accuracy: 0.8711 - loss: 0.3841 - val_accuracy: 0.9500 - val_loss: 0.2656\n",
            "Epoch 57/100\n",
            "\u001b[1m3/3\u001b[0m \u001b[32m━━━━━━━━━━━━━━━━━━━━\u001b[0m\u001b[37m\u001b[0m \u001b[1m0s\u001b[0m 37ms/step - accuracy: 0.8633 - loss: 0.4038 - val_accuracy: 0.9500 - val_loss: 0.2630\n",
            "Epoch 58/100\n",
            "\u001b[1m3/3\u001b[0m \u001b[32m━━━━━━━━━━━━━━━━━━━━\u001b[0m\u001b[37m\u001b[0m \u001b[1m0s\u001b[0m 37ms/step - accuracy: 0.8828 - loss: 0.3588 - val_accuracy: 0.9500 - val_loss: 0.2606\n",
            "Epoch 59/100\n",
            "\u001b[1m3/3\u001b[0m \u001b[32m━━━━━━━━━━━━━━━━━━━━\u001b[0m\u001b[37m\u001b[0m \u001b[1m0s\u001b[0m 44ms/step - accuracy: 0.8828 - loss: 0.3532 - val_accuracy: 0.9500 - val_loss: 0.2586\n",
            "Epoch 60/100\n",
            "\u001b[1m3/3\u001b[0m \u001b[32m━━━━━━━━━━━━━━━━━━━━\u001b[0m\u001b[37m\u001b[0m \u001b[1m0s\u001b[0m 55ms/step - accuracy: 0.8984 - loss: 0.3300 - val_accuracy: 0.9500 - val_loss: 0.2558\n",
            "Epoch 61/100\n",
            "\u001b[1m3/3\u001b[0m \u001b[32m━━━━━━━━━━━━━━━━━━━━\u001b[0m\u001b[37m\u001b[0m \u001b[1m0s\u001b[0m 38ms/step - accuracy: 0.8672 - loss: 0.3721 - val_accuracy: 0.9500 - val_loss: 0.2538\n",
            "Epoch 62/100\n",
            "\u001b[1m3/3\u001b[0m \u001b[32m━━━━━━━━━━━━━━━━━━━━\u001b[0m\u001b[37m\u001b[0m \u001b[1m0s\u001b[0m 37ms/step - accuracy: 0.8867 - loss: 0.3408 - val_accuracy: 0.9500 - val_loss: 0.2526\n",
            "Epoch 63/100\n",
            "\u001b[1m3/3\u001b[0m \u001b[32m━━━━━━━━━━━━━━━━━━━━\u001b[0m\u001b[37m\u001b[0m \u001b[1m0s\u001b[0m 39ms/step - accuracy: 0.8828 - loss: 0.3635 - val_accuracy: 0.9500 - val_loss: 0.2518\n",
            "Epoch 64/100\n",
            "\u001b[1m3/3\u001b[0m \u001b[32m━━━━━━━━━━━━━━━━━━━━\u001b[0m\u001b[37m\u001b[0m \u001b[1m0s\u001b[0m 36ms/step - accuracy: 0.8867 - loss: 0.3392 - val_accuracy: 0.9500 - val_loss: 0.2505\n",
            "Epoch 65/100\n",
            "\u001b[1m3/3\u001b[0m \u001b[32m━━━━━━━━━━━━━━━━━━━━\u001b[0m\u001b[37m\u001b[0m \u001b[1m0s\u001b[0m 39ms/step - accuracy: 0.8844 - loss: 0.3376 - val_accuracy: 0.9500 - val_loss: 0.2489\n",
            "Epoch 66/100\n",
            "\u001b[1m3/3\u001b[0m \u001b[32m━━━━━━━━━━━━━━━━━━━━\u001b[0m\u001b[37m\u001b[0m \u001b[1m0s\u001b[0m 38ms/step - accuracy: 0.8492 - loss: 0.3858 - val_accuracy: 0.9500 - val_loss: 0.2488\n",
            "Epoch 67/100\n",
            "\u001b[1m3/3\u001b[0m \u001b[32m━━━━━━━━━━━━━━━━━━━━\u001b[0m\u001b[37m\u001b[0m \u001b[1m0s\u001b[0m 56ms/step - accuracy: 0.8609 - loss: 0.3727 - val_accuracy: 0.9500 - val_loss: 0.2476\n",
            "Epoch 68/100\n",
            "\u001b[1m3/3\u001b[0m \u001b[32m━━━━━━━━━━━━━━━━━━━━\u001b[0m\u001b[37m\u001b[0m \u001b[1m0s\u001b[0m 37ms/step - accuracy: 0.8648 - loss: 0.3547 - val_accuracy: 0.9500 - val_loss: 0.2466\n",
            "Epoch 69/100\n",
            "\u001b[1m3/3\u001b[0m \u001b[32m━━━━━━━━━━━━━━━━━━━━\u001b[0m\u001b[37m\u001b[0m \u001b[1m0s\u001b[0m 37ms/step - accuracy: 0.8789 - loss: 0.3377 - val_accuracy: 0.9500 - val_loss: 0.2460\n",
            "Epoch 70/100\n",
            "\u001b[1m3/3\u001b[0m \u001b[32m━━━━━━━━━━━━━━━━━━━━\u001b[0m\u001b[37m\u001b[0m \u001b[1m0s\u001b[0m 38ms/step - accuracy: 0.8750 - loss: 0.3656 - val_accuracy: 0.9000 - val_loss: 0.2464\n",
            "Epoch 71/100\n",
            "\u001b[1m3/3\u001b[0m \u001b[32m━━━━━━━━━━━━━━━━━━━━\u001b[0m\u001b[37m\u001b[0m \u001b[1m0s\u001b[0m 38ms/step - accuracy: 0.8789 - loss: 0.3530 - val_accuracy: 0.9000 - val_loss: 0.2447\n",
            "Epoch 72/100\n",
            "\u001b[1m3/3\u001b[0m \u001b[32m━━━━━━━━━━━━━━━━━━━━\u001b[0m\u001b[37m\u001b[0m \u001b[1m0s\u001b[0m 42ms/step - accuracy: 0.8711 - loss: 0.3488 - val_accuracy: 0.9000 - val_loss: 0.2436\n",
            "Epoch 73/100\n",
            "\u001b[1m3/3\u001b[0m \u001b[32m━━━━━━━━━━━━━━━━━━━━\u001b[0m\u001b[37m\u001b[0m \u001b[1m0s\u001b[0m 37ms/step - accuracy: 0.8906 - loss: 0.3320 - val_accuracy: 0.9500 - val_loss: 0.2417\n",
            "Epoch 74/100\n",
            "\u001b[1m3/3\u001b[0m \u001b[32m━━━━━━━━━━━━━━━━━━━━\u001b[0m\u001b[37m\u001b[0m \u001b[1m0s\u001b[0m 38ms/step - accuracy: 0.8672 - loss: 0.3781 - val_accuracy: 0.9500 - val_loss: 0.2402\n",
            "Epoch 75/100\n",
            "\u001b[1m3/3\u001b[0m \u001b[32m━━━━━━━━━━━━━━━━━━━━\u001b[0m\u001b[37m\u001b[0m \u001b[1m0s\u001b[0m 38ms/step - accuracy: 0.8789 - loss: 0.3450 - val_accuracy: 0.9500 - val_loss: 0.2378\n",
            "Epoch 76/100\n",
            "\u001b[1m3/3\u001b[0m \u001b[32m━━━━━━━━━━━━━━━━━━━━\u001b[0m\u001b[37m\u001b[0m \u001b[1m0s\u001b[0m 56ms/step - accuracy: 0.8750 - loss: 0.3584 - val_accuracy: 0.9500 - val_loss: 0.2362\n",
            "Epoch 77/100\n",
            "\u001b[1m3/3\u001b[0m \u001b[32m━━━━━━━━━━━━━━━━━━━━\u001b[0m\u001b[37m\u001b[0m \u001b[1m0s\u001b[0m 49ms/step - accuracy: 0.8867 - loss: 0.3492 - val_accuracy: 0.9500 - val_loss: 0.2342\n",
            "Epoch 78/100\n",
            "\u001b[1m3/3\u001b[0m \u001b[32m━━━━━━━━━━━━━━━━━━━━\u001b[0m\u001b[37m\u001b[0m \u001b[1m0s\u001b[0m 39ms/step - accuracy: 0.8727 - loss: 0.3379 - val_accuracy: 0.9500 - val_loss: 0.2328\n",
            "Epoch 79/100\n",
            "\u001b[1m3/3\u001b[0m \u001b[32m━━━━━━━━━━━━━━━━━━━━\u001b[0m\u001b[37m\u001b[0m \u001b[1m0s\u001b[0m 41ms/step - accuracy: 0.8648 - loss: 0.3523 - val_accuracy: 0.9500 - val_loss: 0.2316\n",
            "Epoch 80/100\n",
            "\u001b[1m3/3\u001b[0m \u001b[32m━━━━━━━━━━━━━━━━━━━━\u001b[0m\u001b[37m\u001b[0m \u001b[1m0s\u001b[0m 38ms/step - accuracy: 0.8766 - loss: 0.3381 - val_accuracy: 0.9500 - val_loss: 0.2310\n",
            "Epoch 81/100\n",
            "\u001b[1m3/3\u001b[0m \u001b[32m━━━━━━━━━━━━━━━━━━━━\u001b[0m\u001b[37m\u001b[0m \u001b[1m0s\u001b[0m 42ms/step - accuracy: 0.8320 - loss: 0.4003 - val_accuracy: 0.9500 - val_loss: 0.2301\n",
            "Epoch 82/100\n",
            "\u001b[1m3/3\u001b[0m \u001b[32m━━━━━━━━━━━━━━━━━━━━\u001b[0m\u001b[37m\u001b[0m \u001b[1m0s\u001b[0m 41ms/step - accuracy: 0.8594 - loss: 0.3865 - val_accuracy: 0.9000 - val_loss: 0.2297\n",
            "Epoch 83/100\n",
            "\u001b[1m3/3\u001b[0m \u001b[32m━━━━━━━━━━━━━━━━━━━━\u001b[0m\u001b[37m\u001b[0m \u001b[1m0s\u001b[0m 38ms/step - accuracy: 0.8750 - loss: 0.3570 - val_accuracy: 0.9000 - val_loss: 0.2288\n",
            "Epoch 84/100\n",
            "\u001b[1m3/3\u001b[0m \u001b[32m━━━━━━━━━━━━━━━━━━━━\u001b[0m\u001b[37m\u001b[0m \u001b[1m0s\u001b[0m 40ms/step - accuracy: 0.8750 - loss: 0.3657 - val_accuracy: 0.9000 - val_loss: 0.2285\n",
            "Epoch 85/100\n",
            "\u001b[1m3/3\u001b[0m \u001b[32m━━━━━━━━━━━━━━━━━━━━\u001b[0m\u001b[37m\u001b[0m \u001b[1m0s\u001b[0m 39ms/step - accuracy: 0.9023 - loss: 0.3076 - val_accuracy: 0.9000 - val_loss: 0.2267\n",
            "Epoch 86/100\n",
            "\u001b[1m3/3\u001b[0m \u001b[32m━━━━━━━━━━━━━━━━━━━━\u001b[0m\u001b[37m\u001b[0m \u001b[1m0s\u001b[0m 41ms/step - accuracy: 0.8828 - loss: 0.3187 - val_accuracy: 0.9000 - val_loss: 0.2251\n",
            "Epoch 87/100\n",
            "\u001b[1m3/3\u001b[0m \u001b[32m━━━━━━━━━━━━━━━━━━━━\u001b[0m\u001b[37m\u001b[0m \u001b[1m0s\u001b[0m 38ms/step - accuracy: 0.8789 - loss: 0.3404 - val_accuracy: 0.9000 - val_loss: 0.2240\n",
            "Epoch 88/100\n",
            "\u001b[1m3/3\u001b[0m \u001b[32m━━━━━━━━━━━━━━━━━━━━\u001b[0m\u001b[37m\u001b[0m \u001b[1m0s\u001b[0m 37ms/step - accuracy: 0.8945 - loss: 0.3060 - val_accuracy: 0.9000 - val_loss: 0.2240\n",
            "Epoch 89/100\n",
            "\u001b[1m3/3\u001b[0m \u001b[32m━━━━━━━━━━━━━━━━━━━━\u001b[0m\u001b[37m\u001b[0m \u001b[1m0s\u001b[0m 36ms/step - accuracy: 0.8828 - loss: 0.3384 - val_accuracy: 0.9000 - val_loss: 0.2239\n",
            "Epoch 90/100\n",
            "\u001b[1m3/3\u001b[0m \u001b[32m━━━━━━━━━━━━━━━━━━━━\u001b[0m\u001b[37m\u001b[0m \u001b[1m0s\u001b[0m 41ms/step - accuracy: 0.8438 - loss: 0.3866 - val_accuracy: 0.9000 - val_loss: 0.2235\n",
            "Epoch 91/100\n",
            "\u001b[1m3/3\u001b[0m \u001b[32m━━━━━━━━━━━━━━━━━━━━\u001b[0m\u001b[37m\u001b[0m \u001b[1m0s\u001b[0m 58ms/step - accuracy: 0.8711 - loss: 0.3438 - val_accuracy: 0.9000 - val_loss: 0.2229\n",
            "Epoch 92/100\n",
            "\u001b[1m3/3\u001b[0m \u001b[32m━━━━━━━━━━━━━━━━━━━━\u001b[0m\u001b[37m\u001b[0m \u001b[1m0s\u001b[0m 40ms/step - accuracy: 0.8672 - loss: 0.3599 - val_accuracy: 0.9000 - val_loss: 0.2222\n",
            "Epoch 93/100\n",
            "\u001b[1m3/3\u001b[0m \u001b[32m━━━━━━━━━━━━━━━━━━━━\u001b[0m\u001b[37m\u001b[0m \u001b[1m0s\u001b[0m 37ms/step - accuracy: 0.8789 - loss: 0.3281 - val_accuracy: 0.9000 - val_loss: 0.2204\n",
            "Epoch 94/100\n",
            "\u001b[1m3/3\u001b[0m \u001b[32m━━━━━━━━━━━━━━━━━━━━\u001b[0m\u001b[37m\u001b[0m \u001b[1m0s\u001b[0m 40ms/step - accuracy: 0.8867 - loss: 0.3368 - val_accuracy: 0.9000 - val_loss: 0.2180\n",
            "Epoch 95/100\n",
            "\u001b[1m3/3\u001b[0m \u001b[32m━━━━━━━━━━━━━━━━━━━━\u001b[0m\u001b[37m\u001b[0m \u001b[1m0s\u001b[0m 37ms/step - accuracy: 0.8398 - loss: 0.4016 - val_accuracy: 0.9000 - val_loss: 0.2174\n",
            "Epoch 96/100\n",
            "\u001b[1m3/3\u001b[0m \u001b[32m━━━━━━━━━━━━━━━━━━━━\u001b[0m\u001b[37m\u001b[0m \u001b[1m0s\u001b[0m 57ms/step - accuracy: 0.8867 - loss: 0.3227 - val_accuracy: 0.9000 - val_loss: 0.2161\n",
            "Epoch 97/100\n",
            "\u001b[1m3/3\u001b[0m \u001b[32m━━━━━━━━━━━━━━━━━━━━\u001b[0m\u001b[37m\u001b[0m \u001b[1m0s\u001b[0m 38ms/step - accuracy: 0.8711 - loss: 0.3468 - val_accuracy: 0.9000 - val_loss: 0.2155\n",
            "Epoch 98/100\n",
            "\u001b[1m3/3\u001b[0m \u001b[32m━━━━━━━━━━━━━━━━━━━━\u001b[0m\u001b[37m\u001b[0m \u001b[1m0s\u001b[0m 41ms/step - accuracy: 0.8945 - loss: 0.3090 - val_accuracy: 0.9000 - val_loss: 0.2151\n",
            "Epoch 99/100\n",
            "\u001b[1m3/3\u001b[0m \u001b[32m━━━━━━━━━━━━━━━━━━━━\u001b[0m\u001b[37m\u001b[0m \u001b[1m0s\u001b[0m 40ms/step - accuracy: 0.8828 - loss: 0.3336 - val_accuracy: 0.9000 - val_loss: 0.2151\n",
            "Epoch 100/100\n",
            "\u001b[1m3/3\u001b[0m \u001b[32m━━━━━━━━━━━━━━━━━━━━\u001b[0m\u001b[37m\u001b[0m \u001b[1m0s\u001b[0m 39ms/step - accuracy: 0.8789 - loss: 0.3288 - val_accuracy: 0.9000 - val_loss: 0.2139\n"
          ]
        }
      ]
    },
    {
      "cell_type": "code",
      "source": [
        "model.get_weights()"
      ],
      "metadata": {
        "colab": {
          "base_uri": "https://localhost:8080/"
        },
        "id": "vafS35UyUW54",
        "outputId": "66fb7606-ff4a-4387-f870-0fce783bc544"
      },
      "execution_count": null,
      "outputs": [
        {
          "output_type": "execute_result",
          "data": {
            "text/plain": [
              "[array([[ 1.091609  , -0.39737153,  0.6054323 , -0.9181725 ,  0.8505572 ,\n",
              "         -0.35463846,  0.0864108 ,  0.31323934,  0.7929291 ,  0.00582364],\n",
              "        [ 0.6510859 , -0.45794412,  0.45763412,  0.6695013 ,  0.18999438,\n",
              "          1.3249416 ,  0.9757923 ,  1.0417421 , -0.48972216, -0.38819218]],\n",
              "       dtype=float32),\n",
              " array([-0.15916502, -0.10676179,  0.05570976, -0.03798425,  0.16636898,\n",
              "         0.15161557,  0.14431018,  0.01426914,  0.11790033,  0.01206482],\n",
              "       dtype=float32),\n",
              " array([[ 0.1637569 , -0.4539913 , -0.59018373, -0.08628651,  0.09575389,\n",
              "         -0.14819737,  0.0547718 , -0.07028408,  0.20913488,  0.15176263],\n",
              "        [ 0.01206306, -0.08790081,  0.67366517, -0.4114311 , -0.15907326,\n",
              "          0.35650694,  0.45820102,  0.35768896,  0.40572587,  0.5050216 ],\n",
              "        [ 0.2391984 ,  0.15247053,  0.56049645,  0.2977032 ,  0.17345083,\n",
              "         -0.01388221,  0.1729927 ,  0.3514981 , -0.24195695,  0.03668591],\n",
              "        [-0.32097027, -0.03093026,  0.3865044 , -0.23724307,  0.54942036,\n",
              "          0.11461166,  0.09703092, -0.3978303 , -0.1310974 ,  0.66962594],\n",
              "        [-0.26849845, -0.23669343, -0.47901195,  0.62670666,  0.30601704,\n",
              "         -0.56581193, -0.1945073 , -0.5096256 ,  0.07638013, -0.29700953],\n",
              "        [ 0.10232481, -0.3627341 , -0.03603894, -0.07624082,  0.02053374,\n",
              "          0.47614232,  0.7076999 ,  0.10968359, -0.86654484, -0.11438841],\n",
              "        [-0.2877386 ,  0.22561337,  0.22508082, -0.6143309 ,  0.02280028,\n",
              "          0.5116568 ,  0.35357106, -0.36490518, -0.34502396, -0.55067766],\n",
              "        [-0.53574926,  0.0515484 ,  0.11798405,  0.06676847,  0.52094793,\n",
              "          0.71112   ,  0.09517838, -0.03193919,  0.38400877,  0.11889277],\n",
              "        [-0.0025356 , -0.11992878, -0.7389639 ,  0.43708116, -0.33856076,\n",
              "          0.46873677, -0.05088109,  0.9545189 ,  0.16706625,  0.10066733],\n",
              "        [ 0.0283883 ,  0.4362114 , -0.02934968,  0.21053892,  0.03589064,\n",
              "         -0.41898826, -0.20454381,  0.05588327,  0.34767   ,  0.20174773]],\n",
              "       dtype=float32),\n",
              " array([-0.05098053, -0.00356143,  0.05554775,  0.20876174,  0.0210349 ,\n",
              "         0.13125373,  0.1031504 ,  0.03194033,  0.12662727,  0.03945153],\n",
              "       dtype=float32),\n",
              " array([[ 0.28761262,  0.18799476,  0.25188956, -0.11551842, -0.09570447,\n",
              "         -0.42612746,  0.08634464, -0.24505608,  0.32925874, -0.42571616],\n",
              "        [-0.03528527, -0.4363255 ,  0.23594216, -0.27168417,  0.17007464,\n",
              "          0.23461688,  0.3186333 ,  0.83259004, -0.08621839, -0.40142938],\n",
              "        [ 0.10533291,  0.2906988 , -0.29038748, -0.8001564 ,  0.07033098,\n",
              "          0.15432286, -0.05231343,  0.6372398 ,  0.07232498,  0.76680773],\n",
              "        [ 0.15308622, -0.1691369 ,  0.3162293 ,  0.4760016 , -0.27055934,\n",
              "          0.7547874 , -0.11592972, -0.12387264, -0.07922985, -0.5312391 ],\n",
              "        [-0.26167536, -0.6567545 , -0.00842528,  0.05147831,  0.5645769 ,\n",
              "         -0.6274316 ,  0.25085145, -0.4703886 ,  0.50980717,  0.10821579],\n",
              "        [-0.09131477, -0.5037227 , -0.04024185,  0.06935558,  0.28002638,\n",
              "          0.01909017,  0.28922692,  0.23062143,  0.23445912, -0.2690883 ],\n",
              "        [ 0.07682592,  0.09980489, -0.08210233,  0.78648937,  0.8134887 ,\n",
              "         -0.12082415,  0.4309509 ,  0.22347827,  0.16841356, -0.2563279 ],\n",
              "        [-0.44158122,  0.30720976, -0.02851626,  0.09614479,  0.2541621 ,\n",
              "          0.48511404,  0.04309595, -0.45183688, -0.47598428, -0.04749927],\n",
              "        [ 0.13814765, -0.46985996,  0.08284882,  0.31013232, -0.50750035,\n",
              "          0.46627328, -0.2751888 ,  0.12139635, -0.29844555,  0.14781   ],\n",
              "        [-0.39552188,  0.37615505, -0.20373416,  0.5949923 , -0.14012182,\n",
              "         -0.06287368,  0.14519969, -0.28287104,  0.7368122 ,  0.07673727]],\n",
              "       dtype=float32),\n",
              " array([-0.03025599, -0.0409623 ,  0.24141689,  0.13087465, -0.02601585,\n",
              "         0.17847422,  0.12197747,  0.15151373,  0.08046313,  0.01461337],\n",
              "       dtype=float32),\n",
              " array([[ 0.13069794, -0.2431741 ,  0.49466217, -0.22485329, -0.64786625,\n",
              "         -0.48938313, -0.11017455, -0.31262434, -0.05259769, -0.01119929],\n",
              "        [ 0.02968695, -0.54857016,  0.13373591, -0.03123008, -0.25309554,\n",
              "          0.22490476, -0.32771197, -0.5150029 , -0.733762  ,  0.2783714 ],\n",
              "        [-0.37536773,  0.008317  ,  0.5471605 ,  0.30079237, -0.40005958,\n",
              "         -0.12187   ,  0.7546042 ,  0.03987757,  0.30963776, -0.09933799],\n",
              "        [-0.755955  ,  0.4082492 ,  0.06668463, -0.03574147,  0.4190699 ,\n",
              "          0.36785865, -0.35163373, -0.10860243,  0.71965146, -0.11233098],\n",
              "        [ 0.06442288, -0.6379286 , -0.62346256, -0.03882919,  0.30552197,\n",
              "          0.7651628 , -0.03383771,  0.07296135, -0.00829359,  0.18795931],\n",
              "        [ 0.24541771,  0.4265936 ,  0.43125907,  0.3932677 , -0.25203943,\n",
              "         -0.2772658 , -0.34168112, -0.12317357, -0.55588055, -0.13462956],\n",
              "        [-0.10884516,  0.5394857 ,  0.20370908, -0.23840424,  0.17900881,\n",
              "         -0.28258574, -0.16319469, -0.04939704,  0.35021436,  0.7924929 ],\n",
              "        [ 0.660529  , -0.23467848,  0.52740383,  0.3744119 , -0.07866962,\n",
              "         -0.18055518,  0.02057714, -0.42631567,  0.06459967, -0.64835215],\n",
              "        [ 0.23811825, -0.59867567, -0.22499786, -0.29174694,  0.1632968 ,\n",
              "          0.5326669 ,  0.15277623, -0.16375744,  0.41550797,  0.19572073],\n",
              "        [ 0.01973223, -0.09934524, -0.87544495, -0.27288052,  0.702296  ,\n",
              "          0.15211757, -0.47257707,  0.06457805, -0.4918444 ,  0.34343073]],\n",
              "       dtype=float32),\n",
              " array([ 0.04271384,  0.15340205,  0.16891535,  0.14533995,  0.05130908,\n",
              "         0.05990815, -0.0055578 ,  0.        ,  0.08533829,  0.11398027],\n",
              "       dtype=float32),\n",
              " array([[-0.35188577],\n",
              "        [ 0.72991836],\n",
              "        [ 0.6092626 ],\n",
              "        [ 0.7472717 ],\n",
              "        [-0.16425742],\n",
              "        [-0.2592946 ],\n",
              "        [-1.0640535 ],\n",
              "        [ 0.02560928],\n",
              "        [-0.36557853],\n",
              "        [-0.49253199]], dtype=float32),\n",
              " array([0.07351939], dtype=float32)]"
            ]
          },
          "metadata": {},
          "execution_count": 16
        }
      ]
    },
    {
      "cell_type": "code",
      "source": [
        "from mlxtend.plotting import plot_decision_regions\n",
        "plot_decision_regions(X,y.astype('int'), clf=model, legend=2)"
      ],
      "metadata": {
        "colab": {
          "base_uri": "https://localhost:8080/",
          "height": 465
        },
        "id": "EiVmBPEZUj6m",
        "outputId": "a72743fe-24f1-4c59-9ad1-1e324506addf"
      },
      "execution_count": null,
      "outputs": [
        {
          "output_type": "stream",
          "name": "stdout",
          "text": [
            "\u001b[1m9600/9600\u001b[0m \u001b[32m━━━━━━━━━━━━━━━━━━━━\u001b[0m\u001b[37m\u001b[0m \u001b[1m14s\u001b[0m 1ms/step\n"
          ]
        },
        {
          "output_type": "execute_result",
          "data": {
            "text/plain": [
              "<Axes: >"
            ]
          },
          "metadata": {},
          "execution_count": 17
        },
        {
          "output_type": "display_data",
          "data": {
            "text/plain": [
              "<Figure size 640x480 with 1 Axes>"
            ],
            "image/png": "[encoded data removed]"
          },
          "metadata": {}
        }
      ]
    },
    {
      "cell_type": "code",
      "source": [],
      "metadata": {
        "id": "D3hz_N3UWf7H"
      },
      "execution_count": null,
      "outputs": []
    }
  ]
}