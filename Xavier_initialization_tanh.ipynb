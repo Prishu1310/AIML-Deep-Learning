{
  "nbformat": 4,
  "nbformat_minor": 0,
  "metadata": {
    "colab": {
      "provenance": []
    },
    "kernelspec": {
      "name": "python3",
      "display_name": "Python 3"
    },
    "language_info": {
      "name": "python"
    }
  },
  "cells": [
    {
      "cell_type": "code",
      "execution_count": null,
      "metadata": {
        "id": "qfd5M5ir9vB5"
      },
      "outputs": [],
      "source": [
        "import numpy as np\n",
        "import pandas as pd\n",
        "import matplotlib.pyplot as plt"
      ]
    },
    {
      "cell_type": "code",
      "source": [
        "df = pd.read_csv(\"/content/ushape.csv\")"
      ],
      "metadata": {
        "id": "gzJrq-LE94yw"
      },
      "execution_count": null,
      "outputs": []
    },
    {
      "cell_type": "code",
      "source": [
        "df.head()"
      ],
      "metadata": {
        "colab": {
          "base_uri": "https://localhost:8080/",
          "height": 206
        },
        "id": "d-Iu963j-QUN",
        "outputId": "d9613a6a-d9b3-445c-a863-e836116a4139"
      },
      "execution_count": null,
      "outputs": [
        {
          "output_type": "execute_result",
          "data": {
            "text/plain": [
              "        X       Y  class\n",
              "0  0.0316  0.9870    0.0\n",
              "1  2.1200 -0.0462    1.0\n",
              "2  0.8820 -0.0758    0.0\n",
              "3 -0.0551 -0.0373    1.0\n",
              "4  0.8300 -0.5390    1.0"
            ],
            "text/html": [
              "\n",
              "  <div id=\"df-003d80d9-4e10-4b3a-9190-184de0d924f5\" class=\"colab-df-container\">\n",
              "    <div>\n",
              "<style scoped>\n",
              "    .dataframe tbody tr th:only-of-type {\n",
              "        vertical-align: middle;\n",
              "    }\n",
              "\n",
              "    .dataframe tbody tr th {\n",
              "        vertical-align: top;\n",
              "    }\n",
              "\n",
              "    .dataframe thead th {\n",
              "        text-align: right;\n",
              "    }\n",
              "</style>\n",
              "<table border=\"1\" class=\"dataframe\">\n",
              "  <thead>\n",
              "    <tr style=\"text-align: right;\">\n",
              "      <th></th>\n",
              "      <th>X</th>\n",
              "      <th>Y</th>\n",
              "      <th>class</th>\n",
              "    </tr>\n",
              "  </thead>\n",
              "  <tbody>\n",
              "    <tr>\n",
              "      <th>0</th>\n",
              "      <td>0.0316</td>\n",
              "      <td>0.9870</td>\n",
              "      <td>0.0</td>\n",
              "    </tr>\n",
              "    <tr>\n",
              "      <th>1</th>\n",
              "      <td>2.1200</td>\n",
              "      <td>-0.0462</td>\n",
              "      <td>1.0</td>\n",
              "    </tr>\n",
              "    <tr>\n",
              "      <th>2</th>\n",
              "      <td>0.8820</td>\n",
              "      <td>-0.0758</td>\n",
              "      <td>0.0</td>\n",
              "    </tr>\n",
              "    <tr>\n",
              "      <th>3</th>\n",
              "      <td>-0.0551</td>\n",
              "      <td>-0.0373</td>\n",
              "      <td>1.0</td>\n",
              "    </tr>\n",
              "    <tr>\n",
              "      <th>4</th>\n",
              "      <td>0.8300</td>\n",
              "      <td>-0.5390</td>\n",
              "      <td>1.0</td>\n",
              "    </tr>\n",
              "  </tbody>\n",
              "</table>\n",
              "</div>\n",
              "    <div class=\"colab-df-buttons\">\n",
              "\n",
              "  <div class=\"colab-df-container\">\n",
              "    <button class=\"colab-df-convert\" onclick=\"convertToInteractive('df-003d80d9-4e10-4b3a-9190-184de0d924f5')\"\n",
              "            title=\"Convert this dataframe to an interactive table.\"\n",
              "            style=\"display:none;\">\n",
              "\n",
              "  <svg xmlns=\"http://www.w3.org/2000/svg\" height=\"24px\" viewBox=\"0 -960 960 960\">\n",
              "    <path d=\"M120-120v-720h720v720H120Zm60-500h600v-160H180v160Zm220 220h160v-160H400v160Zm0 220h160v-160H400v160ZM180-400h160v-160H180v160Zm440 0h160v-160H620v160ZM180-180h160v-160H180v160Zm440 0h160v-160H620v160Z\"/>\n",
              "  </svg>\n",
              "    </button>\n",
              "\n",
              "  <style>\n",
              "    .colab-df-container {\n",
              "      display:flex;\n",
              "      gap: 12px;\n",
              "    }\n",
              "\n",
              "    .colab-df-convert {\n",
              "      background-color: #E8F0FE;\n",
              "      border: none;\n",
              "      border-radius: 50%;\n",
              "      cursor: pointer;\n",
              "      display: none;\n",
              "      fill: #1967D2;\n",
              "      height: 32px;\n",
              "      padding: 0 0 0 0;\n",
              "      width: 32px;\n",
              "    }\n",
              "\n",
              "    .colab-df-convert:hover {\n",
              "      background-color: #E2EBFA;\n",
              "      box-shadow: 0px 1px 2px rgba(60, 64, 67, 0.3), 0px 1px 3px 1px rgba(60, 64, 67, 0.15);\n",
              "      fill: #174EA6;\n",
              "    }\n",
              "\n",
              "    .colab-df-buttons div {\n",
              "      margin-bottom: 4px;\n",
              "    }\n",
              "\n",
              "    [theme=dark] .colab-df-convert {\n",
              "      background-color: #3B4455;\n",
              "      fill: #D2E3FC;\n",
              "    }\n",
              "\n",
              "    [theme=dark] .colab-df-convert:hover {\n",
              "      background-color: #434B5C;\n",
              "      box-shadow: 0px 1px 3px 1px rgba(0, 0, 0, 0.15);\n",
              "      filter: drop-shadow(0px 1px 2px rgba(0, 0, 0, 0.3));\n",
              "      fill: #FFFFFF;\n",
              "    }\n",
              "  </style>\n",
              "\n",
              "    <script>\n",
              "      const buttonEl =\n",
              "        document.querySelector('#df-003d80d9-4e10-4b3a-9190-184de0d924f5 button.colab-df-convert');\n",
              "      buttonEl.style.display =\n",
              "        google.colab.kernel.accessAllowed ? 'block' : 'none';\n",
              "\n",
              "      async function convertToInteractive(key) {\n",
              "        const element = document.querySelector('#df-003d80d9-4e10-4b3a-9190-184de0d924f5');\n",
              "        const dataTable =\n",
              "          await google.colab.kernel.invokeFunction('convertToInteractive',\n",
              "                                                    [key], {});\n",
              "        if (!dataTable) return;\n",
              "\n",
              "        const docLinkHtml = 'Like what you see? Visit the ' +\n",
              "          '<a target=\"_blank\" href=https://colab.research.google.com/notebooks/data_table.ipynb>data table notebook</a>'\n",
              "          + ' to learn more about interactive tables.';\n",
              "        element.innerHTML = '';\n",
              "        dataTable['output_type'] = 'display_data';\n",
              "        await google.colab.output.renderOutput(dataTable, element);\n",
              "        const docLink = document.createElement('div');\n",
              "        docLink.innerHTML = docLinkHtml;\n",
              "        element.appendChild(docLink);\n",
              "      }\n",
              "    </script>\n",
              "  </div>\n",
              "\n",
              "\n",
              "    <div id=\"df-e32f9321-e051-43d8-a061-b25ae505e91b\">\n",
              "      <button class=\"colab-df-quickchart\" onclick=\"quickchart('df-e32f9321-e051-43d8-a061-b25ae505e91b')\"\n",
              "                title=\"Suggest charts\"\n",
              "                style=\"display:none;\">\n",
              "\n",
              "<svg xmlns=\"http://www.w3.org/2000/svg\" height=\"24px\"viewBox=\"0 0 24 24\"\n",
              "     width=\"24px\">\n",
              "    <g>\n",
              "        <path d=\"M19 3H5c-1.1 0-2 .9-2 2v14c0 1.1.9 2 2 2h14c1.1 0 2-.9 2-2V5c0-1.1-.9-2-2-2zM9 17H7v-7h2v7zm4 0h-2V7h2v10zm4 0h-2v-4h2v4z\"/>\n",
              "    </g>\n",
              "</svg>\n",
              "      </button>\n",
              "\n",
              "<style>\n",
              "  .colab-df-quickchart {\n",
              "      --bg-color: #E8F0FE;\n",
              "      --fill-color: #1967D2;\n",
              "      --hover-bg-color: #E2EBFA;\n",
              "      --hover-fill-color: #174EA6;\n",
              "      --disabled-fill-color: #AAA;\n",
              "      --disabled-bg-color: #DDD;\n",
              "  }\n",
              "\n",
              "  [theme=dark] .colab-df-quickchart {\n",
              "      --bg-color: #3B4455;\n",
              "      --fill-color: #D2E3FC;\n",
              "      --hover-bg-color: #434B5C;\n",
              "      --hover-fill-color: #FFFFFF;\n",
              "      --disabled-bg-color: #3B4455;\n",
              "      --disabled-fill-color: #666;\n",
              "  }\n",
              "\n",
              "  .colab-df-quickchart {\n",
              "    background-color: var(--bg-color);\n",
              "    border: none;\n",
              "    border-radius: 50%;\n",
              "    cursor: pointer;\n",
              "    display: none;\n",
              "    fill: var(--fill-color);\n",
              "    height: 32px;\n",
              "    padding: 0;\n",
              "    width: 32px;\n",
              "  }\n",
              "\n",
              "  .colab-df-quickchart:hover {\n",
              "    background-color: var(--hover-bg-color);\n",
              "    box-shadow: 0 1px 2px rgba(60, 64, 67, 0.3), 0 1px 3px 1px rgba(60, 64, 67, 0.15);\n",
              "    fill: var(--button-hover-fill-color);\n",
              "  }\n",
              "\n",
              "  .colab-df-quickchart-complete:disabled,\n",
              "  .colab-df-quickchart-complete:disabled:hover {\n",
              "    background-color: var(--disabled-bg-color);\n",
              "    fill: var(--disabled-fill-color);\n",
              "    box-shadow: none;\n",
              "  }\n",
              "\n",
              "  .colab-df-spinner {\n",
              "    border: 2px solid var(--fill-color);\n",
              "    border-color: transparent;\n",
              "    border-bottom-color: var(--fill-color);\n",
              "    animation:\n",
              "      spin 1s steps(1) infinite;\n",
              "  }\n",
              "\n",
              "  @keyframes spin {\n",
              "    0% {\n",
              "      border-color: transparent;\n",
              "      border-bottom-color: var(--fill-color);\n",
              "      border-left-color: var(--fill-color);\n",
              "    }\n",
              "    20% {\n",
              "      border-color: transparent;\n",
              "      border-left-color: var(--fill-color);\n",
              "      border-top-color: var(--fill-color);\n",
              "    }\n",
              "    30% {\n",
              "      border-color: transparent;\n",
              "      border-left-color: var(--fill-color);\n",
              "      border-top-color: var(--fill-color);\n",
              "      border-right-color: var(--fill-color);\n",
              "    }\n",
              "    40% {\n",
              "      border-color: transparent;\n",
              "      border-right-color: var(--fill-color);\n",
              "      border-top-color: var(--fill-color);\n",
              "    }\n",
              "    60% {\n",
              "      border-color: transparent;\n",
              "      border-right-color: var(--fill-color);\n",
              "    }\n",
              "    80% {\n",
              "      border-color: transparent;\n",
              "      border-right-color: var(--fill-color);\n",
              "      border-bottom-color: var(--fill-color);\n",
              "    }\n",
              "    90% {\n",
              "      border-color: transparent;\n",
              "      border-bottom-color: var(--fill-color);\n",
              "    }\n",
              "  }\n",
              "</style>\n",
              "\n",
              "      <script>\n",
              "        async function quickchart(key) {\n",
              "          const quickchartButtonEl =\n",
              "            document.querySelector('#' + key + ' button');\n",
              "          quickchartButtonEl.disabled = true;  // To prevent multiple clicks.\n",
              "          quickchartButtonEl.classList.add('colab-df-spinner');\n",
              "          try {\n",
              "            const charts = await google.colab.kernel.invokeFunction(\n",
              "                'suggestCharts', [key], {});\n",
              "          } catch (error) {\n",
              "            console.error('Error during call to suggestCharts:', error);\n",
              "          }\n",
              "          quickchartButtonEl.classList.remove('colab-df-spinner');\n",
              "          quickchartButtonEl.classList.add('colab-df-quickchart-complete');\n",
              "        }\n",
              "        (() => {\n",
              "          let quickchartButtonEl =\n",
              "            document.querySelector('#df-e32f9321-e051-43d8-a061-b25ae505e91b button');\n",
              "          quickchartButtonEl.style.display =\n",
              "            google.colab.kernel.accessAllowed ? 'block' : 'none';\n",
              "        })();\n",
              "      </script>\n",
              "    </div>\n",
              "\n",
              "    </div>\n",
              "  </div>\n"
            ],
            "application/vnd.google.colaboratory.intrinsic+json": {
              "type": "dataframe",
              "variable_name": "df",
              "summary": "{\n  \"name\": \"df\",\n  \"rows\": 100,\n  \"fields\": [\n    {\n      \"column\": \"X\",\n      \"properties\": {\n        \"dtype\": \"number\",\n        \"std\": 0.8912634114247282,\n        \"min\": -1.32,\n        \"max\": 2.18,\n        \"num_unique_values\": 97,\n        \"samples\": [\n          0.127,\n          1.52,\n          0.219\n        ],\n        \"semantic_type\": \"\",\n        \"description\": \"\"\n      }\n    },\n    {\n      \"column\": \"Y\",\n      \"properties\": {\n        \"dtype\": \"number\",\n        \"std\": 0.5930233063379892,\n        \"min\": -1.04,\n        \"max\": 1.57,\n        \"num_unique_values\": 98,\n        \"samples\": [\n          -0.38,\n          -0.394,\n          -0.653\n        ],\n        \"semantic_type\": \"\",\n        \"description\": \"\"\n      }\n    },\n    {\n      \"column\": \"class\",\n      \"properties\": {\n        \"dtype\": \"number\",\n        \"std\": 0.502518907629606,\n        \"min\": 0.0,\n        \"max\": 1.0,\n        \"num_unique_values\": 2,\n        \"samples\": [\n          1.0,\n          0.0\n        ],\n        \"semantic_type\": \"\",\n        \"description\": \"\"\n      }\n    }\n  ]\n}"
            }
          },
          "metadata": {},
          "execution_count": 22
        }
      ]
    },
    {
      "cell_type": "code",
      "source": [
        "plt.scatter(df['X'],df['Y'],c=df['class'])"
      ],
      "metadata": {
        "colab": {
          "base_uri": "https://localhost:8080/",
          "height": 447
        },
        "id": "OjNZQln--RT-",
        "outputId": "b486c909-3d4c-430c-879e-ebf2a41eb73f"
      },
      "execution_count": null,
      "outputs": [
        {
          "output_type": "execute_result",
          "data": {
            "text/plain": [
              "<matplotlib.collections.PathCollection at 0x7b26202e2090>"
            ]
          },
          "metadata": {},
          "execution_count": 23
        },
        {
          "output_type": "display_data",
          "data": {
            "text/plain": [
              "<Figure size 640x480 with 1 Axes>"
            ],
            "image/png": "[encoded data removed]"
          },
          "metadata": {}
        }
      ]
    },
    {
      "cell_type": "code",
      "source": [
        "X = df.iloc[:,0:2].values\n",
        "y = df.iloc[:,-1].values"
      ],
      "metadata": {
        "id": "-FWyh-iT-bY9"
      },
      "execution_count": null,
      "outputs": []
    },
    {
      "cell_type": "code",
      "source": [
        "import tensorflow\n",
        "from tensorflow import keras\n",
        "from keras import Sequential\n",
        "from keras.layers import Dense"
      ],
      "metadata": {
        "id": "sT4S8d1_-mdN"
      },
      "execution_count": null,
      "outputs": []
    },
    {
      "cell_type": "code",
      "source": [
        "model = Sequential()\n",
        "\n",
        "model.add(Dense(10,activation = 'tanh', input_dim = 2))\n",
        "model.add(Dense(10,activation = 'tanh'))\n",
        "model.add(Dense(10,activation = 'tanh'))\n",
        "model.add(Dense(10,activation = 'tanh'))\n",
        "model.add(Dense(1,activation = 'sigmoid'))\n",
        "\n"
      ],
      "metadata": {
        "colab": {
          "base_uri": "https://localhost:8080/"
        },
        "id": "psg5JbRY-wYN",
        "outputId": "352e9b2c-86d9-481d-9d6a-cb36e28c8174"
      },
      "execution_count": null,
      "outputs": [
        {
          "output_type": "stream",
          "name": "stderr",
          "text": [
            "/usr/local/lib/python3.11/dist-packages/keras/src/layers/core/dense.py:87: UserWarning: Do not pass an `input_shape`/`input_dim` argument to a layer. When using Sequential models, prefer using an `Input(shape)` object as the first layer in the model instead.\n",
            "  super().__init__(activity_regularizer=activity_regularizer, **kwargs)\n"
          ]
        }
      ]
    },
    {
      "cell_type": "code",
      "source": [
        "model.summary()"
      ],
      "metadata": {
        "colab": {
          "base_uri": "https://localhost:8080/",
          "height": 306
        },
        "id": "rsg8m2oR--vN",
        "outputId": "861b0821-a29f-4f80-a977-e33f41f71874"
      },
      "execution_count": null,
      "outputs": [
        {
          "output_type": "display_data",
          "data": {
            "text/plain": [
              "\u001b[1mModel: \"sequential_1\"\u001b[0m\n"
            ],
            "text/html": [
              "<pre style=\"white-space:pre;overflow-x:auto;line-height:normal;font-family:Menlo,'DejaVu Sans Mono',consolas,'Courier New',monospace\"><span style=\"font-weight: bold\">Model: \"sequential_1\"</span>\n",
              "</pre>\n"
            ]
          },
          "metadata": {}
        },
        {
          "output_type": "display_data",
          "data": {
            "text/plain": [
              "┏━━━━━━━━━━━━━━━━━━━━━━━━━━━━━━━━━┳━━━━━━━━━━━━━━━━━━━━━━━━┳━━━━━━━━━━━━━━━┓\n",
              "┃\u001b[1m \u001b[0m\u001b[1mLayer (type)                   \u001b[0m\u001b[1m \u001b[0m┃\u001b[1m \u001b[0m\u001b[1mOutput Shape          \u001b[0m\u001b[1m \u001b[0m┃\u001b[1m \u001b[0m\u001b[1m      Param #\u001b[0m\u001b[1m \u001b[0m┃\n",
              "┡━━━━━━━━━━━━━━━━━━━━━━━━━━━━━━━━━╇━━━━━━━━━━━━━━━━━━━━━━━━╇━━━━━━━━━━━━━━━┩\n",
              "│ dense_5 (\u001b[38;5;33mDense\u001b[0m)                 │ (\u001b[38;5;45mNone\u001b[0m, \u001b[38;5;34m10\u001b[0m)             │            \u001b[38;5;34m30\u001b[0m │\n",
              "├─────────────────────────────────┼────────────────────────┼───────────────┤\n",
              "│ dense_6 (\u001b[38;5;33mDense\u001b[0m)                 │ (\u001b[38;5;45mNone\u001b[0m, \u001b[38;5;34m10\u001b[0m)             │           \u001b[38;5;34m110\u001b[0m │\n",
              "├─────────────────────────────────┼────────────────────────┼───────────────┤\n",
              "│ dense_7 (\u001b[38;5;33mDense\u001b[0m)                 │ (\u001b[38;5;45mNone\u001b[0m, \u001b[38;5;34m10\u001b[0m)             │           \u001b[38;5;34m110\u001b[0m │\n",
              "├─────────────────────────────────┼────────────────────────┼───────────────┤\n",
              "│ dense_8 (\u001b[38;5;33mDense\u001b[0m)                 │ (\u001b[38;5;45mNone\u001b[0m, \u001b[38;5;34m10\u001b[0m)             │           \u001b[38;5;34m110\u001b[0m │\n",
              "├─────────────────────────────────┼────────────────────────┼───────────────┤\n",
              "│ dense_9 (\u001b[38;5;33mDense\u001b[0m)                 │ (\u001b[38;5;45mNone\u001b[0m, \u001b[38;5;34m1\u001b[0m)              │            \u001b[38;5;34m11\u001b[0m │\n",
              "└─────────────────────────────────┴────────────────────────┴───────────────┘\n"
            ],
            "text/html": [
              "<pre style=\"white-space:pre;overflow-x:auto;line-height:normal;font-family:Menlo,'DejaVu Sans Mono',consolas,'Courier New',monospace\">┏━━━━━━━━━━━━━━━━━━━━━━━━━━━━━━━━━┳━━━━━━━━━━━━━━━━━━━━━━━━┳━━━━━━━━━━━━━━━┓\n",
              "┃<span style=\"font-weight: bold\"> Layer (type)                    </span>┃<span style=\"font-weight: bold\"> Output Shape           </span>┃<span style=\"font-weight: bold\">       Param # </span>┃\n",
              "┡━━━━━━━━━━━━━━━━━━━━━━━━━━━━━━━━━╇━━━━━━━━━━━━━━━━━━━━━━━━╇━━━━━━━━━━━━━━━┩\n",
              "│ dense_5 (<span style=\"color: #0087ff; text-decoration-color: #0087ff\">Dense</span>)                 │ (<span style=\"color: #00d7ff; text-decoration-color: #00d7ff\">None</span>, <span style=\"color: #00af00; text-decoration-color: #00af00\">10</span>)             │            <span style=\"color: #00af00; text-decoration-color: #00af00\">30</span> │\n",
              "├─────────────────────────────────┼────────────────────────┼───────────────┤\n",
              "│ dense_6 (<span style=\"color: #0087ff; text-decoration-color: #0087ff\">Dense</span>)                 │ (<span style=\"color: #00d7ff; text-decoration-color: #00d7ff\">None</span>, <span style=\"color: #00af00; text-decoration-color: #00af00\">10</span>)             │           <span style=\"color: #00af00; text-decoration-color: #00af00\">110</span> │\n",
              "├─────────────────────────────────┼────────────────────────┼───────────────┤\n",
              "│ dense_7 (<span style=\"color: #0087ff; text-decoration-color: #0087ff\">Dense</span>)                 │ (<span style=\"color: #00d7ff; text-decoration-color: #00d7ff\">None</span>, <span style=\"color: #00af00; text-decoration-color: #00af00\">10</span>)             │           <span style=\"color: #00af00; text-decoration-color: #00af00\">110</span> │\n",
              "├─────────────────────────────────┼────────────────────────┼───────────────┤\n",
              "│ dense_8 (<span style=\"color: #0087ff; text-decoration-color: #0087ff\">Dense</span>)                 │ (<span style=\"color: #00d7ff; text-decoration-color: #00d7ff\">None</span>, <span style=\"color: #00af00; text-decoration-color: #00af00\">10</span>)             │           <span style=\"color: #00af00; text-decoration-color: #00af00\">110</span> │\n",
              "├─────────────────────────────────┼────────────────────────┼───────────────┤\n",
              "│ dense_9 (<span style=\"color: #0087ff; text-decoration-color: #0087ff\">Dense</span>)                 │ (<span style=\"color: #00d7ff; text-decoration-color: #00d7ff\">None</span>, <span style=\"color: #00af00; text-decoration-color: #00af00\">1</span>)              │            <span style=\"color: #00af00; text-decoration-color: #00af00\">11</span> │\n",
              "└─────────────────────────────────┴────────────────────────┴───────────────┘\n",
              "</pre>\n"
            ]
          },
          "metadata": {}
        },
        {
          "output_type": "display_data",
          "data": {
            "text/plain": [
              "\u001b[1m Total params: \u001b[0m\u001b[38;5;34m371\u001b[0m (1.45 KB)\n"
            ],
            "text/html": [
              "<pre style=\"white-space:pre;overflow-x:auto;line-height:normal;font-family:Menlo,'DejaVu Sans Mono',consolas,'Courier New',monospace\"><span style=\"font-weight: bold\"> Total params: </span><span style=\"color: #00af00; text-decoration-color: #00af00\">371</span> (1.45 KB)\n",
              "</pre>\n"
            ]
          },
          "metadata": {}
        },
        {
          "output_type": "display_data",
          "data": {
            "text/plain": [
              "\u001b[1m Trainable params: \u001b[0m\u001b[38;5;34m371\u001b[0m (1.45 KB)\n"
            ],
            "text/html": [
              "<pre style=\"white-space:pre;overflow-x:auto;line-height:normal;font-family:Menlo,'DejaVu Sans Mono',consolas,'Courier New',monospace\"><span style=\"font-weight: bold\"> Trainable params: </span><span style=\"color: #00af00; text-decoration-color: #00af00\">371</span> (1.45 KB)\n",
              "</pre>\n"
            ]
          },
          "metadata": {}
        },
        {
          "output_type": "display_data",
          "data": {
            "text/plain": [
              "\u001b[1m Non-trainable params: \u001b[0m\u001b[38;5;34m0\u001b[0m (0.00 B)\n"
            ],
            "text/html": [
              "<pre style=\"white-space:pre;overflow-x:auto;line-height:normal;font-family:Menlo,'DejaVu Sans Mono',consolas,'Courier New',monospace\"><span style=\"font-weight: bold\"> Non-trainable params: </span><span style=\"color: #00af00; text-decoration-color: #00af00\">0</span> (0.00 B)\n",
              "</pre>\n"
            ]
          },
          "metadata": {}
        }
      ]
    },
    {
      "cell_type": "code",
      "source": [
        "initial_weights = model.get_weights()"
      ],
      "metadata": {
        "id": "wQecQVn-_Aed"
      },
      "execution_count": null,
      "outputs": []
    },
    {
      "cell_type": "code",
      "source": [
        "initial_weights"
      ],
      "metadata": {
        "colab": {
          "base_uri": "https://localhost:8080/"
        },
        "id": "S8ogcRZMXai4",
        "outputId": "8ef09b70-597b-4cb6-89fd-0f8e9142c98f"
      },
      "execution_count": null,
      "outputs": [
        {
          "output_type": "execute_result",
          "data": {
            "text/plain": [
              "[array([[ 0.2708127 ,  0.35141367,  0.5379017 , -0.17810935,  0.6033407 ,\n",
              "          0.12852967,  0.50375766, -0.10721368, -0.03322029, -0.25738862],\n",
              "        [ 0.20485258,  0.00372863,  0.10114235, -0.39443716, -0.38425434,\n",
              "         -0.6283672 , -0.252261  ,  0.01391369, -0.13176417, -0.05145168]],\n",
              "       dtype=float32),\n",
              " array([0., 0., 0., 0., 0., 0., 0., 0., 0., 0.], dtype=float32),\n",
              " array([[ 0.22567314,  0.1103    ,  0.16010702,  0.05587137, -0.04998383,\n",
              "         -0.36728024,  0.41764474,  0.45394814, -0.20340803, -0.14991322],\n",
              "        [ 0.09060246, -0.09344196,  0.39084017, -0.14693257,  0.1739763 ,\n",
              "         -0.5229303 , -0.03454047, -0.42228115, -0.28764725,  0.15728813],\n",
              "        [-0.4722916 ,  0.36342353, -0.06985816,  0.38172168,  0.0006882 ,\n",
              "          0.54389274, -0.05348501, -0.36798662,  0.1508823 , -0.21318838],\n",
              "        [ 0.52404344, -0.39383608, -0.48557636, -0.26767147, -0.2700022 ,\n",
              "         -0.09910959, -0.3281425 , -0.19030386, -0.22590706, -0.09458381],\n",
              "        [ 0.35754538,  0.34246188, -0.2249206 ,  0.19452512,  0.13448226,\n",
              "          0.34676695,  0.3077526 ,  0.13260323, -0.11958292, -0.49622107],\n",
              "        [ 0.06015438,  0.36209023,  0.521477  , -0.17586195,  0.4192232 ,\n",
              "          0.11952847, -0.3360181 ,  0.40042776, -0.3507773 ,  0.44180042],\n",
              "        [ 0.23230559, -0.27022913, -0.38491425,  0.29085946, -0.1715697 ,\n",
              "          0.3099829 , -0.07082647,  0.3601386 , -0.29582462, -0.26375058],\n",
              "        [-0.5137447 , -0.20486605,  0.54159486, -0.20479566,  0.08000439,\n",
              "          0.04671299,  0.03663653, -0.38606614,  0.29771382, -0.0319317 ],\n",
              "        [ 0.43057144,  0.26326585, -0.33332184, -0.0386703 , -0.32221788,\n",
              "         -0.5129302 ,  0.4159739 , -0.5000389 ,  0.45022053, -0.53583574],\n",
              "        [ 0.30320752, -0.19975668, -0.5017627 , -0.36795747,  0.43322998,\n",
              "          0.13501233, -0.5163485 , -0.27378124,  0.5146866 , -0.5308981 ]],\n",
              "       dtype=float32),\n",
              " array([0., 0., 0., 0., 0., 0., 0., 0., 0., 0.], dtype=float32),\n",
              " array([[-0.13490066, -0.3819584 , -0.47251165, -0.25351894,  0.05157989,\n",
              "          0.33687538, -0.06968617, -0.20163974, -0.11170891, -0.39382982],\n",
              "        [-0.4892985 , -0.04533911,  0.24111068, -0.5289597 ,  0.35578322,\n",
              "         -0.23411107, -0.04892084,  0.09010404, -0.42647076,  0.26207268],\n",
              "        [ 0.00189209,  0.01347476,  0.27001286,  0.0445168 ,  0.23867732,\n",
              "         -0.04375744, -0.08827424, -0.28606376,  0.37554985,  0.18574297],\n",
              "        [-0.08668485,  0.21485299,  0.33520216,  0.03278995, -0.15614042,\n",
              "          0.09321225,  0.09250915,  0.05596876, -0.12225485,  0.20479137],\n",
              "        [-0.12035665, -0.14201924,  0.4830644 , -0.39518324,  0.08544362,\n",
              "          0.32660353, -0.52553034,  0.11530524,  0.03739887,  0.24212348],\n",
              "        [ 0.3607812 ,  0.08011407, -0.16377065,  0.04437274,  0.30433762,\n",
              "         -0.3477145 ,  0.5446925 , -0.19947931,  0.45645714,  0.05171764],\n",
              "        [-0.19398382, -0.34584308,  0.5254438 , -0.10927173, -0.24299425,\n",
              "          0.15585065,  0.00838381, -0.4727796 ,  0.37695247, -0.12196821],\n",
              "        [-0.20918444, -0.11339021, -0.4781243 ,  0.51702   , -0.23513082,\n",
              "          0.22124863, -0.48535138, -0.08915412,  0.4346357 ,  0.19924581],\n",
              "        [-0.22887072,  0.11036372,  0.49505353, -0.30371484,  0.43487495,\n",
              "          0.05093426,  0.18973136, -0.1533243 ,  0.5213535 ,  0.33924538],\n",
              "        [-0.22775343,  0.23756313, -0.23903745,  0.44604826,  0.45535147,\n",
              "         -0.0303216 ,  0.30643237, -0.02341622, -0.46425238,  0.36034882]],\n",
              "       dtype=float32),\n",
              " array([0., 0., 0., 0., 0., 0., 0., 0., 0., 0.], dtype=float32),\n",
              " array([[-0.3938464 ,  0.12793279,  0.4760487 , -0.533794  , -0.39933068,\n",
              "          0.5197871 ,  0.09095764, -0.2563964 , -0.01304621, -0.22310296],\n",
              "        [-0.07268459, -0.0672929 , -0.50259346,  0.5032058 ,  0.01382697,\n",
              "         -0.10992441, -0.45216733, -0.3358705 , -0.34915918,  0.11273766],\n",
              "        [-0.31059158,  0.0708496 , -0.23793033, -0.00436473, -0.12778953,\n",
              "         -0.25468743,  0.22818202,  0.3205225 , -0.5317088 , -0.49319223],\n",
              "        [-0.15692577,  0.2783553 , -0.18832415,  0.13851887,  0.14492756,\n",
              "         -0.24054432,  0.10378802,  0.02943319,  0.40992546, -0.09785044],\n",
              "        [-0.35281122,  0.0735411 ,  0.42994505,  0.36867517,  0.53579414,\n",
              "         -0.07754049,  0.27254248,  0.08842689, -0.34365404, -0.40270624],\n",
              "        [-0.04938406,  0.5303179 , -0.36159697,  0.4484462 , -0.3195552 ,\n",
              "         -0.12188113, -0.14615375, -0.21806085,  0.35450006, -0.07321307],\n",
              "        [-0.16283551, -0.13439426,  0.11648327, -0.40642327,  0.15812314,\n",
              "          0.45869553, -0.24733642,  0.20254457, -0.23536482, -0.23808104],\n",
              "        [-0.02152681,  0.52137077,  0.01310903, -0.36529547,  0.19254804,\n",
              "         -0.5186245 , -0.4009189 ,  0.19152445,  0.3650583 ,  0.23601514],\n",
              "        [ 0.29415387,  0.24519384, -0.5446766 , -0.23498613,  0.45873892,\n",
              "          0.4265554 , -0.1934855 , -0.4328156 , -0.29394287,  0.3771639 ],\n",
              "        [ 0.06564879, -0.30913696, -0.50919384,  0.12798035, -0.40610474,\n",
              "         -0.01247329, -0.29492423,  0.1685667 , -0.36538255,  0.4870683 ]],\n",
              "       dtype=float32),\n",
              " array([0., 0., 0., 0., 0., 0., 0., 0., 0., 0.], dtype=float32),\n",
              " array([[ 0.12337238],\n",
              "        [ 0.6645269 ],\n",
              "        [ 0.5924035 ],\n",
              "        [-0.24043009],\n",
              "        [ 0.33693665],\n",
              "        [-0.34723935],\n",
              "        [ 0.4833991 ],\n",
              "        [ 0.6550301 ],\n",
              "        [ 0.27225918],\n",
              "        [-0.25502285]], dtype=float32),\n",
              " array([0.], dtype=float32)]"
            ]
          },
          "metadata": {},
          "execution_count": 29
        }
      ]
    },
    {
      "cell_type": "code",
      "source": [
        "initial_weights[0] = np.random.randn(2,10) * np.sqrt(1/2)\n",
        "initial_weights[1] = np.zeros(model.get_weights()[1].shape)\n",
        "initial_weights[2] = np.random.randn(10,10) * np.sqrt(1/10)\n",
        "initial_weights[3] = np.zeros(model.get_weights()[3].shape)\n",
        "initial_weights[4] = np.random.randn(10,10) * np.sqrt(1/10)\n",
        "initial_weights[5] = np.zeros(model.get_weights()[5].shape)\n",
        "initial_weights[6] = np.random.randn(10,10) * np.sqrt(1/10)\n",
        "initial_weights[7] = np.zeros(model.get_weights()[7].shape)\n",
        "initial_weights[8] = np.random.randn(10,1) * np.sqrt(1/10)\n",
        "initial_weights[9] = np.zeros(model.get_weights()[9].shape)\n"
      ],
      "metadata": {
        "id": "FTiD_PBW_H8d"
      },
      "execution_count": null,
      "outputs": []
    },
    {
      "cell_type": "code",
      "source": [
        "model.set_weights(initial_weights)"
      ],
      "metadata": {
        "id": "-vxUhgrSDJLM"
      },
      "execution_count": null,
      "outputs": []
    },
    {
      "cell_type": "code",
      "source": [
        "model.get_weights()"
      ],
      "metadata": {
        "colab": {
          "base_uri": "https://localhost:8080/"
        },
        "id": "jG0Fxn_nDSAm",
        "outputId": "01a635b9-0f13-4632-fec6-35edec73c943"
      },
      "execution_count": null,
      "outputs": [
        {
          "output_type": "execute_result",
          "data": {
            "text/plain": [
              "[array([[-0.80934566,  0.2338533 ,  0.02326138,  1.7042677 ,  0.7321973 ,\n",
              "          0.27068466,  0.09583231, -0.7767815 ,  1.4937857 ,  0.40862027],\n",
              "        [-0.7083187 , -0.68020284, -0.38803333, -1.6082261 , -0.47088724,\n",
              "          2.106367  , -1.5535545 ,  0.01602817,  0.9091611 , -0.41385853]],\n",
              "       dtype=float32),\n",
              " array([0., 0., 0., 0., 0., 0., 0., 0., 0., 0.], dtype=float32),\n",
              " array([[-1.8806939e-01,  3.3320987e-01, -2.0062196e-01, -9.9416368e-02,\n",
              "          4.9125746e-01,  3.6916837e-01, -4.1651034e-01,  3.0983129e-01,\n",
              "         -4.1767344e-01, -2.0009984e-01],\n",
              "        [ 5.4806733e-01,  4.1498402e-01, -8.0903471e-02,  9.0696625e-02,\n",
              "         -1.2292992e-01,  5.4333769e-02,  2.6409057e-01,  3.2935984e-02,\n",
              "         -3.8157365e-01,  1.4666633e-01],\n",
              "        [ 4.4237137e-01, -4.9805978e-01,  7.3773104e-01, -5.4310590e-01,\n",
              "          1.1248811e-01,  1.2249897e-01, -4.6858364e-01, -1.8190266e-01,\n",
              "         -1.4492583e-01, -5.4313791e-01],\n",
              "        [ 9.3888372e-02,  2.5773370e-01, -2.1716568e-01, -1.0791735e-01,\n",
              "         -2.4248569e-01, -4.9528995e-01, -1.3181701e-01,  3.6072305e-01,\n",
              "          6.0598582e-01,  5.0573967e-02],\n",
              "        [-2.4557039e-01,  8.7704338e-02,  9.8711243e-03,  6.8629116e-01,\n",
              "         -1.4714873e-01,  1.4749172e-01, -1.4650430e-01,  1.8870831e-01,\n",
              "          3.5429072e-01, -8.6299531e-02],\n",
              "        [ 7.8487676e-03,  7.1286812e-02,  3.8673066e-02,  6.5533027e-02,\n",
              "         -1.9209698e-02, -9.5650218e-03, -5.8143419e-01, -1.1994602e-01,\n",
              "         -1.4481217e-01,  1.2611675e-01],\n",
              "        [-5.8048278e-01,  3.9370644e-01,  4.2512137e-01,  8.3706968e-02,\n",
              "         -3.7134337e-01,  1.2654275e-01, -3.1001750e-01,  5.8608538e-01,\n",
              "          8.7061167e-02,  9.2925750e-02],\n",
              "        [ 3.5117269e-02,  2.1741080e-01,  3.7832162e-01, -6.0038441e-01,\n",
              "         -1.5638407e-02, -9.6859217e-02, -9.7257294e-02,  6.2957078e-01,\n",
              "          1.3613580e-01,  6.9601156e-02],\n",
              "        [-5.0461039e-02,  3.7541926e-02,  2.2729169e-01,  2.1779725e-01,\n",
              "         -7.7635914e-01, -3.2170457e-01,  1.3342007e-01,  4.9262302e-04,\n",
              "         -1.5958655e-01,  4.6399768e-02],\n",
              "        [-3.4728834e-01,  6.4817600e-02,  4.0548083e-01, -2.3260030e-01,\n",
              "         -3.0524654e-02,  1.1336417e-01, -5.4113346e-01, -2.2742936e-01,\n",
              "          2.9916114e-01, -2.3868990e-03]], dtype=float32),\n",
              " array([0., 0., 0., 0., 0., 0., 0., 0., 0., 0.], dtype=float32),\n",
              " array([[ 0.14026935,  0.25169006,  0.05780039,  0.28225988, -0.8375023 ,\n",
              "          0.14857553,  0.38453323,  0.29103592, -0.43657097, -0.39960617],\n",
              "        [ 0.4961331 , -0.38919482,  0.1703455 ,  0.3126727 , -0.1112078 ,\n",
              "          0.34569246, -0.3315738 , -0.09822036,  0.05970792, -0.12426662],\n",
              "        [ 0.53874946, -0.8310504 , -0.39183715,  0.10286196, -0.05782932,\n",
              "          0.4583487 ,  0.09997336, -0.20259887, -0.04402999,  0.73151386],\n",
              "        [ 0.21324144,  0.42848557, -0.11437381, -0.19081554,  0.02215173,\n",
              "         -0.30012852, -0.29799175, -0.1019825 , -0.5141719 , -0.0169929 ],\n",
              "        [-0.01168864, -0.15358439,  0.04374548, -0.16801423, -0.42396653,\n",
              "          0.5656201 , -0.3753395 ,  0.24308826, -0.5826984 , -0.04689624],\n",
              "        [ 0.2545607 ,  0.14875706, -0.01026479,  0.3050205 , -0.42958724,\n",
              "         -0.52694726,  0.8930953 , -0.48118606,  0.312878  , -0.12903535],\n",
              "        [-0.34103578,  0.4567545 ,  0.01383237,  0.12378504,  0.12646738,\n",
              "          0.4148937 , -0.33066025,  0.24089141, -0.20509703,  0.34024328],\n",
              "        [-0.06616084, -0.21282318,  0.32992807,  0.02722282,  0.19560875,\n",
              "          0.20481512, -0.07785903,  0.45239237,  0.10450319,  0.09184711],\n",
              "        [-0.36455503, -0.2621525 ,  0.20328745,  0.24587423, -0.39228657,\n",
              "          0.00733799, -0.42117175, -0.10673518, -0.01777153, -0.32873023],\n",
              "        [ 0.63047546,  0.49926263,  0.01046322,  0.45000854,  0.13392548,\n",
              "         -0.19434205, -0.53808695,  0.31085336,  0.2495744 , -0.13948612]],\n",
              "       dtype=float32),\n",
              " array([0., 0., 0., 0., 0., 0., 0., 0., 0., 0.], dtype=float32),\n",
              " array([[-0.55772465,  0.36759156,  0.39373252,  0.02825741,  0.03001058,\n",
              "         -0.39440116,  0.38762948,  0.29734775, -0.23404056, -0.01201639],\n",
              "        [ 0.40990794, -0.24798042,  0.01737775,  0.11348666, -0.04948206,\n",
              "         -0.10541129,  0.20919482,  0.03815655, -0.05297562, -0.5267719 ],\n",
              "        [ 0.157541  , -0.04686713, -0.24248843, -0.33977747,  0.22349028,\n",
              "          0.11569683, -0.10770217, -0.5335538 ,  0.05424676, -0.0287281 ],\n",
              "        [-0.17667632, -0.1388667 , -0.1163254 ,  0.11093707, -0.27121693,\n",
              "         -0.06951423, -0.09201007, -0.05140028, -0.04823012, -0.2373472 ],\n",
              "        [-0.29093528, -0.3410566 , -0.1500011 , -0.00279456,  0.27591977,\n",
              "          0.9428752 ,  0.01490744,  0.4713089 ,  0.30591196,  0.46690482],\n",
              "        [ 0.04013042, -0.20513102, -0.24472813,  0.33501482, -0.11838401,\n",
              "          0.19443704, -0.56066394,  0.24502565,  0.22962256, -0.21450882],\n",
              "        [-0.4087996 ,  0.5843063 ,  0.45347902,  0.71033746, -0.078587  ,\n",
              "         -0.00656039, -0.4106678 , -0.01186326, -0.15171851, -0.04840646],\n",
              "        [-0.6803765 ,  0.9658717 , -0.01679501, -0.18449257, -0.22840673,\n",
              "          0.10720657,  0.14987114,  0.04148782, -0.24049574,  0.4839934 ],\n",
              "        [-0.17726313, -0.09976884, -0.29886794, -0.07611873, -0.50843686,\n",
              "         -0.41673148,  0.17407033, -0.40814885, -0.8146192 , -0.09147504],\n",
              "        [ 0.16793604, -0.51961595,  0.0935661 , -0.08729809, -0.07679785,\n",
              "          0.03694328,  0.03847146,  0.09269376,  0.09622633,  0.13848118]],\n",
              "       dtype=float32),\n",
              " array([0., 0., 0., 0., 0., 0., 0., 0., 0., 0.], dtype=float32),\n",
              " array([[ 0.36426136],\n",
              "        [-0.50230867],\n",
              "        [ 0.2714294 ],\n",
              "        [ 0.37008378],\n",
              "        [-0.08289786],\n",
              "        [-0.17031796],\n",
              "        [ 0.14175428],\n",
              "        [ 0.593627  ],\n",
              "        [-0.01833299],\n",
              "        [ 0.14617038]], dtype=float32),\n",
              " array([0.], dtype=float32)]"
            ]
          },
          "metadata": {},
          "execution_count": 32
        }
      ]
    },
    {
      "cell_type": "code",
      "source": [
        "model.compile(loss='binary_crossentropy', optimizer = \"adam\", metrics=['accuracy'])"
      ],
      "metadata": {
        "id": "XtnXely4DTva"
      },
      "execution_count": null,
      "outputs": []
    },
    {
      "cell_type": "code",
      "source": [
        "history = model.fit(X,y, epochs = 100, validation_split=0.2)"
      ],
      "metadata": {
        "colab": {
          "base_uri": "https://localhost:8080/"
        },
        "id": "mLRTbmFtUNLx",
        "outputId": "4eba3ca2-c2e3-40d8-acaf-aefb1c192825"
      },
      "execution_count": null,
      "outputs": [
        {
          "output_type": "stream",
          "name": "stdout",
          "text": [
            "Epoch 1/100\n",
            "\u001b[1m3/3\u001b[0m \u001b[32m━━━━━━━━━━━━━━━━━━━━\u001b[0m\u001b[37m\u001b[0m \u001b[1m2s\u001b[0m 138ms/step - accuracy: 0.4805 - loss: 0.7219 - val_accuracy: 0.6500 - val_loss: 0.6579\n",
            "Epoch 2/100\n",
            "\u001b[1m3/3\u001b[0m \u001b[32m━━━━━━━━━━━━━━━━━━━━\u001b[0m\u001b[37m\u001b[0m \u001b[1m0s\u001b[0m 57ms/step - accuracy: 0.5227 - loss: 0.7005 - val_accuracy: 0.7000 - val_loss: 0.6379\n",
            "Epoch 3/100\n",
            "\u001b[1m3/3\u001b[0m \u001b[32m━━━━━━━━━━━━━━━━━━━━\u001b[0m\u001b[37m\u001b[0m \u001b[1m0s\u001b[0m 59ms/step - accuracy: 0.5484 - loss: 0.6777 - val_accuracy: 0.7500 - val_loss: 0.6186\n",
            "Epoch 4/100\n",
            "\u001b[1m3/3\u001b[0m \u001b[32m━━━━━━━━━━━━━━━━━━━━\u001b[0m\u001b[37m\u001b[0m \u001b[1m0s\u001b[0m 58ms/step - accuracy: 0.5750 - loss: 0.6652 - val_accuracy: 0.7500 - val_loss: 0.6004\n",
            "Epoch 5/100\n",
            "\u001b[1m3/3\u001b[0m \u001b[32m━━━━━━━━━━━━━━━━━━━━\u001b[0m\u001b[37m\u001b[0m \u001b[1m0s\u001b[0m 41ms/step - accuracy: 0.6328 - loss: 0.6453 - val_accuracy: 0.8000 - val_loss: 0.5831\n",
            "Epoch 6/100\n",
            "\u001b[1m3/3\u001b[0m \u001b[32m━━━━━━━━━━━━━━━━━━━━\u001b[0m\u001b[37m\u001b[0m \u001b[1m0s\u001b[0m 39ms/step - accuracy: 0.6234 - loss: 0.6319 - val_accuracy: 0.8000 - val_loss: 0.5669\n",
            "Epoch 7/100\n",
            "\u001b[1m3/3\u001b[0m \u001b[32m━━━━━━━━━━━━━━━━━━━━\u001b[0m\u001b[37m\u001b[0m \u001b[1m0s\u001b[0m 40ms/step - accuracy: 0.7156 - loss: 0.6131 - val_accuracy: 0.8500 - val_loss: 0.5512\n",
            "Epoch 8/100\n",
            "\u001b[1m3/3\u001b[0m \u001b[32m━━━━━━━━━━━━━━━━━━━━\u001b[0m\u001b[37m\u001b[0m \u001b[1m0s\u001b[0m 38ms/step - accuracy: 0.7625 - loss: 0.6039 - val_accuracy: 0.9000 - val_loss: 0.5364\n",
            "Epoch 9/100\n",
            "\u001b[1m3/3\u001b[0m \u001b[32m━━━━━━━━━━━━━━━━━━━━\u001b[0m\u001b[37m\u001b[0m \u001b[1m0s\u001b[0m 63ms/step - accuracy: 0.8023 - loss: 0.5792 - val_accuracy: 0.9000 - val_loss: 0.5220\n",
            "Epoch 10/100\n",
            "\u001b[1m3/3\u001b[0m \u001b[32m━━━━━━━━━━━━━━━━━━━━\u001b[0m\u001b[37m\u001b[0m \u001b[1m0s\u001b[0m 37ms/step - accuracy: 0.8008 - loss: 0.5769 - val_accuracy: 0.9000 - val_loss: 0.5082\n",
            "Epoch 11/100\n",
            "\u001b[1m3/3\u001b[0m \u001b[32m━━━━━━━━━━━━━━━━━━━━\u001b[0m\u001b[37m\u001b[0m \u001b[1m0s\u001b[0m 39ms/step - accuracy: 0.8305 - loss: 0.5628 - val_accuracy: 0.9000 - val_loss: 0.4947\n",
            "Epoch 12/100\n",
            "\u001b[1m3/3\u001b[0m \u001b[32m━━━━━━━━━━━━━━━━━━━━\u001b[0m\u001b[37m\u001b[0m \u001b[1m0s\u001b[0m 37ms/step - accuracy: 0.8328 - loss: 0.5464 - val_accuracy: 0.9000 - val_loss: 0.4819\n",
            "Epoch 13/100\n",
            "\u001b[1m3/3\u001b[0m \u001b[32m━━━━━━━━━━━━━━━━━━━━\u001b[0m\u001b[37m\u001b[0m \u001b[1m0s\u001b[0m 37ms/step - accuracy: 0.8523 - loss: 0.5312 - val_accuracy: 0.8500 - val_loss: 0.4699\n",
            "Epoch 14/100\n",
            "\u001b[1m3/3\u001b[0m \u001b[32m━━━━━━━━━━━━━━━━━━━━\u001b[0m\u001b[37m\u001b[0m \u001b[1m0s\u001b[0m 36ms/step - accuracy: 0.8445 - loss: 0.5294 - val_accuracy: 0.8500 - val_loss: 0.4583\n",
            "Epoch 15/100\n",
            "\u001b[1m3/3\u001b[0m \u001b[32m━━━━━━━━━━━━━━━━━━━━\u001b[0m\u001b[37m\u001b[0m \u001b[1m0s\u001b[0m 37ms/step - accuracy: 0.8250 - loss: 0.5205 - val_accuracy: 0.8500 - val_loss: 0.4469\n",
            "Epoch 16/100\n",
            "\u001b[1m3/3\u001b[0m \u001b[32m━━━━━━━━━━━━━━━━━━━━\u001b[0m\u001b[37m\u001b[0m \u001b[1m0s\u001b[0m 38ms/step - accuracy: 0.8328 - loss: 0.5157 - val_accuracy: 0.8500 - val_loss: 0.4361\n",
            "Epoch 17/100\n",
            "\u001b[1m3/3\u001b[0m \u001b[32m━━━━━━━━━━━━━━━━━━━━\u001b[0m\u001b[37m\u001b[0m \u001b[1m0s\u001b[0m 57ms/step - accuracy: 0.8406 - loss: 0.4923 - val_accuracy: 0.8500 - val_loss: 0.4258\n",
            "Epoch 18/100\n",
            "\u001b[1m3/3\u001b[0m \u001b[32m━━━━━━━━━━━━━━━━━━━━\u001b[0m\u001b[37m\u001b[0m \u001b[1m0s\u001b[0m 39ms/step - accuracy: 0.8172 - loss: 0.5022 - val_accuracy: 0.8500 - val_loss: 0.4158\n",
            "Epoch 19/100\n",
            "\u001b[1m3/3\u001b[0m \u001b[32m━━━━━━━━━━━━━━━━━━━━\u001b[0m\u001b[37m\u001b[0m \u001b[1m0s\u001b[0m 36ms/step - accuracy: 0.8562 - loss: 0.4742 - val_accuracy: 0.8500 - val_loss: 0.4063\n",
            "Epoch 20/100\n",
            "\u001b[1m3/3\u001b[0m \u001b[32m━━━━━━━━━━━━━━━━━━━━\u001b[0m\u001b[37m\u001b[0m \u001b[1m0s\u001b[0m 45ms/step - accuracy: 0.8445 - loss: 0.4660 - val_accuracy: 0.8500 - val_loss: 0.3979\n",
            "Epoch 21/100\n",
            "\u001b[1m3/3\u001b[0m \u001b[32m━━━━━━━━━━━━━━━━━━━━\u001b[0m\u001b[37m\u001b[0m \u001b[1m0s\u001b[0m 37ms/step - accuracy: 0.8367 - loss: 0.4691 - val_accuracy: 0.8500 - val_loss: 0.3899\n",
            "Epoch 22/100\n",
            "\u001b[1m3/3\u001b[0m \u001b[32m━━━━━━━━━━━━━━━━━━━━\u001b[0m\u001b[37m\u001b[0m \u001b[1m0s\u001b[0m 36ms/step - accuracy: 0.8273 - loss: 0.4745 - val_accuracy: 0.8500 - val_loss: 0.3826\n",
            "Epoch 23/100\n",
            "\u001b[1m3/3\u001b[0m \u001b[32m━━━━━━━━━━━━━━━━━━━━\u001b[0m\u001b[37m\u001b[0m \u001b[1m0s\u001b[0m 37ms/step - accuracy: 0.8547 - loss: 0.4506 - val_accuracy: 0.9000 - val_loss: 0.3755\n",
            "Epoch 24/100\n",
            "\u001b[1m3/3\u001b[0m \u001b[32m━━━━━━━━━━━━━━━━━━━━\u001b[0m\u001b[37m\u001b[0m \u001b[1m0s\u001b[0m 39ms/step - accuracy: 0.8703 - loss: 0.4374 - val_accuracy: 0.9000 - val_loss: 0.3689\n",
            "Epoch 25/100\n",
            "\u001b[1m3/3\u001b[0m \u001b[32m━━━━━━━━━━━━━━━━━━━━\u001b[0m\u001b[37m\u001b[0m \u001b[1m0s\u001b[0m 39ms/step - accuracy: 0.8547 - loss: 0.4441 - val_accuracy: 0.9000 - val_loss: 0.3630\n",
            "Epoch 26/100\n",
            "\u001b[1m3/3\u001b[0m \u001b[32m━━━━━━━━━━━━━━━━━━━━\u001b[0m\u001b[37m\u001b[0m \u001b[1m0s\u001b[0m 41ms/step - accuracy: 0.8586 - loss: 0.4271 - val_accuracy: 0.9000 - val_loss: 0.3571\n",
            "Epoch 27/100\n",
            "\u001b[1m3/3\u001b[0m \u001b[32m━━━━━━━━━━━━━━━━━━━━\u001b[0m\u001b[37m\u001b[0m \u001b[1m0s\u001b[0m 37ms/step - accuracy: 0.8586 - loss: 0.4158 - val_accuracy: 0.9000 - val_loss: 0.3519\n",
            "Epoch 28/100\n",
            "\u001b[1m3/3\u001b[0m \u001b[32m━━━━━━━━━━━━━━━━━━━━\u001b[0m\u001b[37m\u001b[0m \u001b[1m0s\u001b[0m 37ms/step - accuracy: 0.8547 - loss: 0.4300 - val_accuracy: 0.9000 - val_loss: 0.3476\n",
            "Epoch 29/100\n",
            "\u001b[1m3/3\u001b[0m \u001b[32m━━━━━━━━━━━━━━━━━━━━\u001b[0m\u001b[37m\u001b[0m \u001b[1m0s\u001b[0m 38ms/step - accuracy: 0.8313 - loss: 0.4528 - val_accuracy: 0.9000 - val_loss: 0.3429\n",
            "Epoch 30/100\n",
            "\u001b[1m3/3\u001b[0m \u001b[32m━━━━━━━━━━━━━━━━━━━━\u001b[0m\u001b[37m\u001b[0m \u001b[1m0s\u001b[0m 37ms/step - accuracy: 0.8625 - loss: 0.4157 - val_accuracy: 0.8500 - val_loss: 0.3380\n",
            "Epoch 31/100\n",
            "\u001b[1m3/3\u001b[0m \u001b[32m━━━━━━━━━━━━━━━━━━━━\u001b[0m\u001b[37m\u001b[0m \u001b[1m0s\u001b[0m 36ms/step - accuracy: 0.8664 - loss: 0.4169 - val_accuracy: 0.8500 - val_loss: 0.3335\n",
            "Epoch 32/100\n",
            "\u001b[1m3/3\u001b[0m \u001b[32m━━━━━━━━━━━━━━━━━━━━\u001b[0m\u001b[37m\u001b[0m \u001b[1m0s\u001b[0m 37ms/step - accuracy: 0.8883 - loss: 0.3810 - val_accuracy: 0.8500 - val_loss: 0.3289\n",
            "Epoch 33/100\n",
            "\u001b[1m3/3\u001b[0m \u001b[32m━━━━━━━━━━━━━━━━━━━━\u001b[0m\u001b[37m\u001b[0m \u001b[1m0s\u001b[0m 39ms/step - accuracy: 0.8508 - loss: 0.4167 - val_accuracy: 0.8500 - val_loss: 0.3255\n",
            "Epoch 34/100\n",
            "\u001b[1m3/3\u001b[0m \u001b[32m━━━━━━━━━━━━━━━━━━━━\u001b[0m\u001b[37m\u001b[0m \u001b[1m0s\u001b[0m 38ms/step - accuracy: 0.8703 - loss: 0.3998 - val_accuracy: 0.8500 - val_loss: 0.3215\n",
            "Epoch 35/100\n",
            "\u001b[1m3/3\u001b[0m \u001b[32m━━━━━━━━━━━━━━━━━━━━\u001b[0m\u001b[37m\u001b[0m \u001b[1m0s\u001b[0m 39ms/step - accuracy: 0.8508 - loss: 0.4121 - val_accuracy: 0.8500 - val_loss: 0.3173\n",
            "Epoch 36/100\n",
            "\u001b[1m3/3\u001b[0m \u001b[32m━━━━━━━━━━━━━━━━━━━━\u001b[0m\u001b[37m\u001b[0m \u001b[1m0s\u001b[0m 63ms/step - accuracy: 0.8742 - loss: 0.3702 - val_accuracy: 0.8500 - val_loss: 0.3140\n",
            "Epoch 37/100\n",
            "\u001b[1m3/3\u001b[0m \u001b[32m━━━━━━━━━━━━━━━━━━━━\u001b[0m\u001b[37m\u001b[0m \u001b[1m0s\u001b[0m 59ms/step - accuracy: 0.8391 - loss: 0.4266 - val_accuracy: 0.8500 - val_loss: 0.3108\n",
            "Epoch 38/100\n",
            "\u001b[1m3/3\u001b[0m \u001b[32m━━━━━━━━━━━━━━━━━━━━\u001b[0m\u001b[37m\u001b[0m \u001b[1m0s\u001b[0m 52ms/step - accuracy: 0.8430 - loss: 0.4291 - val_accuracy: 0.8500 - val_loss: 0.3080\n",
            "Epoch 39/100\n",
            "\u001b[1m3/3\u001b[0m \u001b[32m━━━━━━━━━━━━━━━━━━━━\u001b[0m\u001b[37m\u001b[0m \u001b[1m0s\u001b[0m 68ms/step - accuracy: 0.8430 - loss: 0.4071 - val_accuracy: 0.8500 - val_loss: 0.3053\n",
            "Epoch 40/100\n",
            "\u001b[1m3/3\u001b[0m \u001b[32m━━━━━━━━━━━━━━━━━━━━\u001b[0m\u001b[37m\u001b[0m \u001b[1m0s\u001b[0m 72ms/step - accuracy: 0.8195 - loss: 0.4304 - val_accuracy: 0.8500 - val_loss: 0.3025\n",
            "Epoch 41/100\n",
            "\u001b[1m3/3\u001b[0m \u001b[32m━━━━━━━━━━━━━━━━━━━━\u001b[0m\u001b[37m\u001b[0m \u001b[1m0s\u001b[0m 68ms/step - accuracy: 0.8352 - loss: 0.4285 - val_accuracy: 0.8500 - val_loss: 0.3001\n",
            "Epoch 42/100\n",
            "\u001b[1m3/3\u001b[0m \u001b[32m━━━━━━━━━━━━━━━━━━━━\u001b[0m\u001b[37m\u001b[0m \u001b[1m0s\u001b[0m 64ms/step - accuracy: 0.8742 - loss: 0.3730 - val_accuracy: 0.8500 - val_loss: 0.2972\n",
            "Epoch 43/100\n",
            "\u001b[1m3/3\u001b[0m \u001b[32m━━━━━━━━━━━━━━━━━━━━\u001b[0m\u001b[37m\u001b[0m \u001b[1m0s\u001b[0m 75ms/step - accuracy: 0.8352 - loss: 0.4184 - val_accuracy: 0.8500 - val_loss: 0.2951\n",
            "Epoch 44/100\n",
            "\u001b[1m3/3\u001b[0m \u001b[32m━━━━━━━━━━━━━━━━━━━━\u001b[0m\u001b[37m\u001b[0m \u001b[1m0s\u001b[0m 70ms/step - accuracy: 0.8508 - loss: 0.3864 - val_accuracy: 0.8500 - val_loss: 0.2934\n",
            "Epoch 45/100\n",
            "\u001b[1m3/3\u001b[0m \u001b[32m━━━━━━━━━━━━━━━━━━━━\u001b[0m\u001b[37m\u001b[0m \u001b[1m0s\u001b[0m 45ms/step - accuracy: 0.8742 - loss: 0.3740 - val_accuracy: 0.8500 - val_loss: 0.2918\n",
            "Epoch 46/100\n",
            "\u001b[1m3/3\u001b[0m \u001b[32m━━━━━━━━━━━━━━━━━━━━\u001b[0m\u001b[37m\u001b[0m \u001b[1m0s\u001b[0m 40ms/step - accuracy: 0.8508 - loss: 0.4016 - val_accuracy: 0.8500 - val_loss: 0.2905\n",
            "Epoch 47/100\n",
            "\u001b[1m3/3\u001b[0m \u001b[32m━━━━━━━━━━━━━━━━━━━━\u001b[0m\u001b[37m\u001b[0m \u001b[1m0s\u001b[0m 38ms/step - accuracy: 0.8313 - loss: 0.4113 - val_accuracy: 0.8500 - val_loss: 0.2895\n",
            "Epoch 48/100\n",
            "\u001b[1m3/3\u001b[0m \u001b[32m━━━━━━━━━━━━━━━━━━━━\u001b[0m\u001b[37m\u001b[0m \u001b[1m0s\u001b[0m 43ms/step - accuracy: 0.8531 - loss: 0.4079 - val_accuracy: 0.8500 - val_loss: 0.2879\n",
            "Epoch 49/100\n",
            "\u001b[1m3/3\u001b[0m \u001b[32m━━━━━━━━━━━━━━━━━━━━\u001b[0m\u001b[37m\u001b[0m \u001b[1m0s\u001b[0m 39ms/step - accuracy: 0.8492 - loss: 0.4096 - val_accuracy: 0.9000 - val_loss: 0.2866\n",
            "Epoch 50/100\n",
            "\u001b[1m3/3\u001b[0m \u001b[32m━━━━━━━━━━━━━━━━━━━━\u001b[0m\u001b[37m\u001b[0m \u001b[1m0s\u001b[0m 56ms/step - accuracy: 0.8492 - loss: 0.4113 - val_accuracy: 0.8500 - val_loss: 0.2849\n",
            "Epoch 51/100\n",
            "\u001b[1m3/3\u001b[0m \u001b[32m━━━━━━━━━━━━━━━━━━━━\u001b[0m\u001b[37m\u001b[0m \u001b[1m0s\u001b[0m 38ms/step - accuracy: 0.8414 - loss: 0.4200 - val_accuracy: 0.8500 - val_loss: 0.2838\n",
            "Epoch 52/100\n",
            "\u001b[1m3/3\u001b[0m \u001b[32m━━━━━━━━━━━━━━━━━━━━\u001b[0m\u001b[37m\u001b[0m \u001b[1m0s\u001b[0m 38ms/step - accuracy: 0.8258 - loss: 0.4304 - val_accuracy: 0.9000 - val_loss: 0.2827\n",
            "Epoch 53/100\n",
            "\u001b[1m3/3\u001b[0m \u001b[32m━━━━━━━━━━━━━━━━━━━━\u001b[0m\u001b[37m\u001b[0m \u001b[1m0s\u001b[0m 44ms/step - accuracy: 0.8609 - loss: 0.3840 - val_accuracy: 0.8500 - val_loss: 0.2817\n",
            "Epoch 54/100\n",
            "\u001b[1m3/3\u001b[0m \u001b[32m━━━━━━━━━━━━━━━━━━━━\u001b[0m\u001b[37m\u001b[0m \u001b[1m0s\u001b[0m 42ms/step - accuracy: 0.8570 - loss: 0.3895 - val_accuracy: 0.8500 - val_loss: 0.2812\n",
            "Epoch 55/100\n",
            "\u001b[1m3/3\u001b[0m \u001b[32m━━━━━━━━━━━━━━━━━━━━\u001b[0m\u001b[37m\u001b[0m \u001b[1m0s\u001b[0m 39ms/step - accuracy: 0.8766 - loss: 0.3586 - val_accuracy: 0.8500 - val_loss: 0.2811\n",
            "Epoch 56/100\n",
            "\u001b[1m3/3\u001b[0m \u001b[32m━━━━━━━━━━━━━━━━━━━━\u001b[0m\u001b[37m\u001b[0m \u001b[1m0s\u001b[0m 39ms/step - accuracy: 0.8609 - loss: 0.3674 - val_accuracy: 0.8500 - val_loss: 0.2799\n",
            "Epoch 57/100\n",
            "\u001b[1m3/3\u001b[0m \u001b[32m━━━━━━━━━━━━━━━━━━━━\u001b[0m\u001b[37m\u001b[0m \u001b[1m0s\u001b[0m 40ms/step - accuracy: 0.8414 - loss: 0.4088 - val_accuracy: 0.8500 - val_loss: 0.2793\n",
            "Epoch 58/100\n",
            "\u001b[1m3/3\u001b[0m \u001b[32m━━━━━━━━━━━━━━━━━━━━\u001b[0m\u001b[37m\u001b[0m \u001b[1m0s\u001b[0m 39ms/step - accuracy: 0.8687 - loss: 0.3753 - val_accuracy: 0.8500 - val_loss: 0.2779\n",
            "Epoch 59/100\n",
            "\u001b[1m3/3\u001b[0m \u001b[32m━━━━━━━━━━━━━━━━━━━━\u001b[0m\u001b[37m\u001b[0m \u001b[1m0s\u001b[0m 38ms/step - accuracy: 0.8687 - loss: 0.3744 - val_accuracy: 0.9000 - val_loss: 0.2767\n",
            "Epoch 60/100\n",
            "\u001b[1m3/3\u001b[0m \u001b[32m━━━━━━━━━━━━━━━━━━━━\u001b[0m\u001b[37m\u001b[0m \u001b[1m0s\u001b[0m 42ms/step - accuracy: 0.8883 - loss: 0.3550 - val_accuracy: 0.8500 - val_loss: 0.2758\n",
            "Epoch 61/100\n",
            "\u001b[1m3/3\u001b[0m \u001b[32m━━━━━━━━━━━━━━━━━━━━\u001b[0m\u001b[37m\u001b[0m \u001b[1m0s\u001b[0m 62ms/step - accuracy: 0.8609 - loss: 0.3751 - val_accuracy: 0.9000 - val_loss: 0.2764\n",
            "Epoch 62/100\n",
            "\u001b[1m3/3\u001b[0m \u001b[32m━━━━━━━━━━━━━━━━━━━━\u001b[0m\u001b[37m\u001b[0m \u001b[1m0s\u001b[0m 39ms/step - accuracy: 0.8648 - loss: 0.3746 - val_accuracy: 0.9000 - val_loss: 0.2765\n",
            "Epoch 63/100\n",
            "\u001b[1m3/3\u001b[0m \u001b[32m━━━━━━━━━━━━━━━━━━━━\u001b[0m\u001b[37m\u001b[0m \u001b[1m0s\u001b[0m 40ms/step - accuracy: 0.8648 - loss: 0.3661 - val_accuracy: 0.8500 - val_loss: 0.2768\n",
            "Epoch 64/100\n",
            "\u001b[1m3/3\u001b[0m \u001b[32m━━━━━━━━━━━━━━━━━━━━\u001b[0m\u001b[37m\u001b[0m \u001b[1m0s\u001b[0m 39ms/step - accuracy: 0.8414 - loss: 0.4368 - val_accuracy: 0.8500 - val_loss: 0.2771\n",
            "Epoch 65/100\n",
            "\u001b[1m3/3\u001b[0m \u001b[32m━━━━━━━━━━━━━━━━━━━━\u001b[0m\u001b[37m\u001b[0m \u001b[1m0s\u001b[0m 37ms/step - accuracy: 0.8570 - loss: 0.3725 - val_accuracy: 0.8500 - val_loss: 0.2764\n",
            "Epoch 66/100\n",
            "\u001b[1m3/3\u001b[0m \u001b[32m━━━━━━━━━━━━━━━━━━━━\u001b[0m\u001b[37m\u001b[0m \u001b[1m0s\u001b[0m 36ms/step - accuracy: 0.8805 - loss: 0.3448 - val_accuracy: 0.8500 - val_loss: 0.2748\n",
            "Epoch 67/100\n",
            "\u001b[1m3/3\u001b[0m \u001b[32m━━━━━━━━━━━━━━━━━━━━\u001b[0m\u001b[37m\u001b[0m \u001b[1m0s\u001b[0m 55ms/step - accuracy: 0.8492 - loss: 0.4066 - val_accuracy: 0.9000 - val_loss: 0.2743\n",
            "Epoch 68/100\n",
            "\u001b[1m3/3\u001b[0m \u001b[32m━━━━━━━━━━━━━━━━━━━━\u001b[0m\u001b[37m\u001b[0m \u001b[1m0s\u001b[0m 37ms/step - accuracy: 0.8687 - loss: 0.3660 - val_accuracy: 0.9000 - val_loss: 0.2735\n",
            "Epoch 69/100\n",
            "\u001b[1m3/3\u001b[0m \u001b[32m━━━━━━━━━━━━━━━━━━━━\u001b[0m\u001b[37m\u001b[0m \u001b[1m0s\u001b[0m 45ms/step - accuracy: 0.8805 - loss: 0.3527 - val_accuracy: 0.9000 - val_loss: 0.2732\n",
            "Epoch 70/100\n",
            "\u001b[1m3/3\u001b[0m \u001b[32m━━━━━━━━━━━━━━━━━━━━\u001b[0m\u001b[37m\u001b[0m \u001b[1m0s\u001b[0m 37ms/step - accuracy: 0.8531 - loss: 0.3837 - val_accuracy: 0.9000 - val_loss: 0.2730\n",
            "Epoch 71/100\n",
            "\u001b[1m3/3\u001b[0m \u001b[32m━━━━━━━━━━━━━━━━━━━━\u001b[0m\u001b[37m\u001b[0m \u001b[1m0s\u001b[0m 37ms/step - accuracy: 0.8805 - loss: 0.3502 - val_accuracy: 0.8500 - val_loss: 0.2732\n",
            "Epoch 72/100\n",
            "\u001b[1m3/3\u001b[0m \u001b[32m━━━━━━━━━━━━━━━━━━━━\u001b[0m\u001b[37m\u001b[0m \u001b[1m0s\u001b[0m 40ms/step - accuracy: 0.8430 - loss: 0.4050 - val_accuracy: 0.8500 - val_loss: 0.2735\n",
            "Epoch 73/100\n",
            "\u001b[1m3/3\u001b[0m \u001b[32m━━━━━━━━━━━━━━━━━━━━\u001b[0m\u001b[37m\u001b[0m \u001b[1m0s\u001b[0m 38ms/step - accuracy: 0.8687 - loss: 0.3949 - val_accuracy: 0.9000 - val_loss: 0.2744\n",
            "Epoch 74/100\n",
            "\u001b[1m3/3\u001b[0m \u001b[32m━━━━━━━━━━━━━━━━━━━━\u001b[0m\u001b[37m\u001b[0m \u001b[1m0s\u001b[0m 37ms/step - accuracy: 0.8648 - loss: 0.3681 - val_accuracy: 0.9000 - val_loss: 0.2745\n",
            "Epoch 75/100\n",
            "\u001b[1m3/3\u001b[0m \u001b[32m━━━━━━━━━━━━━━━━━━━━\u001b[0m\u001b[37m\u001b[0m \u001b[1m0s\u001b[0m 39ms/step - accuracy: 0.8531 - loss: 0.3933 - val_accuracy: 0.9000 - val_loss: 0.2745\n",
            "Epoch 76/100\n",
            "\u001b[1m3/3\u001b[0m \u001b[32m━━━━━━━━━━━━━━━━━━━━\u001b[0m\u001b[37m\u001b[0m \u001b[1m0s\u001b[0m 38ms/step - accuracy: 0.8492 - loss: 0.3967 - val_accuracy: 0.9000 - val_loss: 0.2747\n",
            "Epoch 77/100\n",
            "\u001b[1m3/3\u001b[0m \u001b[32m━━━━━━━━━━━━━━━━━━━━\u001b[0m\u001b[37m\u001b[0m \u001b[1m0s\u001b[0m 47ms/step - accuracy: 0.8883 - loss: 0.3454 - val_accuracy: 0.9000 - val_loss: 0.2745\n",
            "Epoch 78/100\n",
            "\u001b[1m3/3\u001b[0m \u001b[32m━━━━━━━━━━━━━━━━━━━━\u001b[0m\u001b[37m\u001b[0m \u001b[1m0s\u001b[0m 37ms/step - accuracy: 0.8492 - loss: 0.3965 - val_accuracy: 0.8500 - val_loss: 0.2744\n",
            "Epoch 79/100\n",
            "\u001b[1m3/3\u001b[0m \u001b[32m━━━━━━━━━━━━━━━━━━━━\u001b[0m\u001b[37m\u001b[0m \u001b[1m0s\u001b[0m 42ms/step - accuracy: 0.8570 - loss: 0.3925 - val_accuracy: 0.9000 - val_loss: 0.2752\n",
            "Epoch 80/100\n",
            "\u001b[1m3/3\u001b[0m \u001b[32m━━━━━━━━━━━━━━━━━━━━\u001b[0m\u001b[37m\u001b[0m \u001b[1m0s\u001b[0m 39ms/step - accuracy: 0.8766 - loss: 0.3541 - val_accuracy: 0.9000 - val_loss: 0.2757\n",
            "Epoch 81/100\n",
            "\u001b[1m3/3\u001b[0m \u001b[32m━━━━━━━━━━━━━━━━━━━━\u001b[0m\u001b[37m\u001b[0m \u001b[1m0s\u001b[0m 38ms/step - accuracy: 0.8531 - loss: 0.3717 - val_accuracy: 0.8500 - val_loss: 0.2763\n",
            "Epoch 82/100\n",
            "\u001b[1m3/3\u001b[0m \u001b[32m━━━━━━━━━━━━━━━━━━━━\u001b[0m\u001b[37m\u001b[0m \u001b[1m0s\u001b[0m 37ms/step - accuracy: 0.8609 - loss: 0.3768 - val_accuracy: 0.8500 - val_loss: 0.2775\n",
            "Epoch 83/100\n",
            "\u001b[1m3/3\u001b[0m \u001b[32m━━━━━━━━━━━━━━━━━━━━\u001b[0m\u001b[37m\u001b[0m \u001b[1m0s\u001b[0m 38ms/step - accuracy: 0.8570 - loss: 0.3927 - val_accuracy: 0.8500 - val_loss: 0.2767\n",
            "Epoch 84/100\n",
            "\u001b[1m3/3\u001b[0m \u001b[32m━━━━━━━━━━━━━━━━━━━━\u001b[0m\u001b[37m\u001b[0m \u001b[1m0s\u001b[0m 37ms/step - accuracy: 0.8609 - loss: 0.3832 - val_accuracy: 0.8500 - val_loss: 0.2761\n",
            "Epoch 85/100\n",
            "\u001b[1m3/3\u001b[0m \u001b[32m━━━━━━━━━━━━━━━━━━━━\u001b[0m\u001b[37m\u001b[0m \u001b[1m0s\u001b[0m 39ms/step - accuracy: 0.8336 - loss: 0.4084 - val_accuracy: 0.8500 - val_loss: 0.2756\n",
            "Epoch 86/100\n",
            "\u001b[1m3/3\u001b[0m \u001b[32m━━━━━━━━━━━━━━━━━━━━\u001b[0m\u001b[37m\u001b[0m \u001b[1m0s\u001b[0m 45ms/step - accuracy: 0.8648 - loss: 0.3711 - val_accuracy: 0.8500 - val_loss: 0.2750\n",
            "Epoch 87/100\n",
            "\u001b[1m3/3\u001b[0m \u001b[32m━━━━━━━━━━━━━━━━━━━━\u001b[0m\u001b[37m\u001b[0m \u001b[1m0s\u001b[0m 36ms/step - accuracy: 0.8727 - loss: 0.3459 - val_accuracy: 0.8500 - val_loss: 0.2747\n",
            "Epoch 88/100\n",
            "\u001b[1m3/3\u001b[0m \u001b[32m━━━━━━━━━━━━━━━━━━━━\u001b[0m\u001b[37m\u001b[0m \u001b[1m0s\u001b[0m 40ms/step - accuracy: 0.8805 - loss: 0.3474 - val_accuracy: 0.8500 - val_loss: 0.2742\n",
            "Epoch 89/100\n",
            "\u001b[1m3/3\u001b[0m \u001b[32m━━━━━━━━━━━━━━━━━━━━\u001b[0m\u001b[37m\u001b[0m \u001b[1m0s\u001b[0m 37ms/step - accuracy: 0.8492 - loss: 0.3936 - val_accuracy: 0.8500 - val_loss: 0.2745\n",
            "Epoch 90/100\n",
            "\u001b[1m3/3\u001b[0m \u001b[32m━━━━━━━━━━━━━━━━━━━━\u001b[0m\u001b[37m\u001b[0m \u001b[1m0s\u001b[0m 37ms/step - accuracy: 0.9039 - loss: 0.3190 - val_accuracy: 0.8500 - val_loss: 0.2747\n",
            "Epoch 91/100\n",
            "\u001b[1m3/3\u001b[0m \u001b[32m━━━━━━━━━━━━━━━━━━━━\u001b[0m\u001b[37m\u001b[0m \u001b[1m0s\u001b[0m 37ms/step - accuracy: 0.8609 - loss: 0.3666 - val_accuracy: 0.8500 - val_loss: 0.2746\n",
            "Epoch 92/100\n",
            "\u001b[1m3/3\u001b[0m \u001b[32m━━━━━━━━━━━━━━━━━━━━\u001b[0m\u001b[37m\u001b[0m \u001b[1m0s\u001b[0m 38ms/step - accuracy: 0.8492 - loss: 0.4016 - val_accuracy: 0.8500 - val_loss: 0.2743\n",
            "Epoch 93/100\n",
            "\u001b[1m3/3\u001b[0m \u001b[32m━━━━━━━━━━━━━━━━━━━━\u001b[0m\u001b[37m\u001b[0m \u001b[1m0s\u001b[0m 38ms/step - accuracy: 0.8570 - loss: 0.3585 - val_accuracy: 0.8500 - val_loss: 0.2733\n",
            "Epoch 94/100\n",
            "\u001b[1m3/3\u001b[0m \u001b[32m━━━━━━━━━━━━━━━━━━━━\u001b[0m\u001b[37m\u001b[0m \u001b[1m0s\u001b[0m 58ms/step - accuracy: 0.8297 - loss: 0.4208 - val_accuracy: 0.8500 - val_loss: 0.2728\n",
            "Epoch 95/100\n",
            "\u001b[1m3/3\u001b[0m \u001b[32m━━━━━━━━━━━━━━━━━━━━\u001b[0m\u001b[37m\u001b[0m \u001b[1m0s\u001b[0m 39ms/step - accuracy: 0.8570 - loss: 0.3577 - val_accuracy: 0.8500 - val_loss: 0.2722\n",
            "Epoch 96/100\n",
            "\u001b[1m3/3\u001b[0m \u001b[32m━━━━━━━━━━━━━━━━━━━━\u001b[0m\u001b[37m\u001b[0m \u001b[1m0s\u001b[0m 37ms/step - accuracy: 0.8453 - loss: 0.3783 - val_accuracy: 0.8500 - val_loss: 0.2715\n",
            "Epoch 97/100\n",
            "\u001b[1m3/3\u001b[0m \u001b[32m━━━━━━━━━━━━━━━━━━━━\u001b[0m\u001b[37m\u001b[0m \u001b[1m0s\u001b[0m 57ms/step - accuracy: 0.8883 - loss: 0.3232 - val_accuracy: 0.8500 - val_loss: 0.2700\n",
            "Epoch 98/100\n",
            "\u001b[1m3/3\u001b[0m \u001b[32m━━━━━━━━━━━━━━━━━━━━\u001b[0m\u001b[37m\u001b[0m \u001b[1m0s\u001b[0m 37ms/step - accuracy: 0.8648 - loss: 0.3608 - val_accuracy: 0.8500 - val_loss: 0.2682\n",
            "Epoch 99/100\n",
            "\u001b[1m3/3\u001b[0m \u001b[32m━━━━━━━━━━━━━━━━━━━━\u001b[0m\u001b[37m\u001b[0m \u001b[1m0s\u001b[0m 38ms/step - accuracy: 0.8766 - loss: 0.3463 - val_accuracy: 0.8500 - val_loss: 0.2662\n",
            "Epoch 100/100\n",
            "\u001b[1m3/3\u001b[0m \u001b[32m━━━━━━━━━━━━━━━━━━━━\u001b[0m\u001b[37m\u001b[0m \u001b[1m0s\u001b[0m 38ms/step - accuracy: 0.8687 - loss: 0.3468 - val_accuracy: 0.9000 - val_loss: 0.2639\n"
          ]
        }
      ]
    },
    {
      "cell_type": "code",
      "source": [
        "model.get_weights()"
      ],
      "metadata": {
        "colab": {
          "base_uri": "https://localhost:8080/"
        },
        "id": "vafS35UyUW54",
        "outputId": "2b3d1ad0-5018-4aaf-c69e-ef6b58b5b9a1"
      },
      "execution_count": null,
      "outputs": [
        {
          "output_type": "execute_result",
          "data": {
            "text/plain": [
              "[array([[-0.92835355,  0.08216334,  0.15647198,  1.8525071 ,  0.5824198 ,\n",
              "          0.23178166,  0.23964664, -0.8086836 ,  1.5169125 ,  0.46264136],\n",
              "        [-0.67761856, -0.64681023, -0.4331245 , -1.5526124 , -0.60515344,\n",
              "          2.2162185 , -1.5589713 ,  0.10837267,  0.9112706 , -0.5067879 ]],\n",
              "       dtype=float32),\n",
              " array([ 0.06629978,  0.10260022,  0.06330618, -0.045073  , -0.0638214 ,\n",
              "        -0.08559547,  0.04700009, -0.16666353,  0.2459829 , -0.04626754],\n",
              "       dtype=float32),\n",
              " array([[-2.46852577e-01,  3.72464597e-01, -1.49975479e-01,\n",
              "          5.92512824e-02,  3.69505584e-01,  2.60493368e-01,\n",
              "         -4.89980191e-01,  3.50626796e-01, -5.19056439e-01,\n",
              "         -2.57447422e-01],\n",
              "        [ 4.63333279e-01,  4.91937280e-01, -5.52552706e-03,\n",
              "          1.84594944e-01, -2.21389592e-01, -7.34766275e-02,\n",
              "          2.86482424e-01, -3.59747298e-02, -4.71818328e-01,\n",
              "          5.69410920e-02],\n",
              "        [ 3.42028737e-01, -3.87347132e-01,  8.25405002e-01,\n",
              "         -4.38625455e-01,  1.08105829e-02, -1.54331885e-02,\n",
              "         -4.57446337e-01, -2.64345020e-01, -2.42994934e-01,\n",
              "         -6.49003148e-01],\n",
              "        [ 4.92063612e-02,  2.52466023e-01, -1.98520198e-01,\n",
              "         -1.27305403e-01, -2.21750259e-01, -5.30894578e-01,\n",
              "         -3.89243476e-02,  3.20094407e-01,  6.02576971e-01,\n",
              "          3.41255702e-02],\n",
              "        [-3.66000950e-01,  1.73299700e-01,  1.00296035e-01,\n",
              "          7.26664722e-01, -1.79709867e-01,  2.44940612e-02,\n",
              "         -9.75980759e-02,  1.31001264e-01,  2.92088717e-01,\n",
              "         -1.90880224e-01],\n",
              "        [ 6.34280965e-02,  2.16860026e-02,  5.48226526e-05,\n",
              "         -2.05227714e-02,  6.98545724e-02,  9.84294042e-02,\n",
              "         -6.19207501e-01, -5.74560836e-02, -7.37104192e-02,\n",
              "          1.76352739e-01],\n",
              "        [-6.49730325e-01,  4.51480567e-01,  4.77971613e-01,\n",
              "          1.66357085e-01, -4.56439793e-01,  1.00235827e-02,\n",
              "         -2.71939784e-01,  5.22169113e-01,  1.54125178e-02,\n",
              "          2.68322825e-02],\n",
              "        [ 8.95510986e-02,  1.92782745e-01,  3.17179888e-01,\n",
              "         -5.55847347e-01, -1.35328487e-01, -1.52084380e-01,\n",
              "         -1.66980878e-01,  6.95566237e-01,  1.64177239e-01,\n",
              "          1.33018240e-01],\n",
              "        [ 2.61429674e-03,  1.39600178e-02,  2.03188345e-01,\n",
              "          1.08664326e-01, -6.78114474e-01, -2.21079051e-01,\n",
              "          1.42855152e-01, -9.27542001e-02, -1.21295772e-01,\n",
              "          7.25217909e-02],\n",
              "        [-4.78469700e-01,  1.72577113e-01,  5.05870581e-01,\n",
              "         -1.73142046e-01, -9.33626592e-02, -3.71050127e-02,\n",
              "         -4.98714834e-01, -2.90076643e-01,  2.26721078e-01,\n",
              "         -1.19572215e-01]], dtype=float32),\n",
              " array([ 0.03357132,  0.00116663,  0.0102582 ,  0.02713948, -0.01048834,\n",
              "         0.00732742,  0.00087427, -0.10384785, -0.06005315, -0.00425213],\n",
              "       dtype=float32),\n",
              " array([[ 0.03217108,  0.18065435,  0.15797079,  0.42010406, -0.9575831 ,\n",
              "          0.04255833,  0.5376497 ,  0.39858818, -0.34421697, -0.49314535],\n",
              "        [ 0.5732071 , -0.33326134,  0.09621903,  0.22285767, -0.03717569,\n",
              "          0.41298613, -0.44390738, -0.17549293, -0.00446478, -0.06656429],\n",
              "        [ 0.6864797 , -0.75249285, -0.50938946, -0.08556954,  0.06496692,\n",
              "          0.5819798 , -0.03820719, -0.316741  , -0.15416643,  0.8380268 ],\n",
              "        [ 0.31002977,  0.49179882, -0.16915768, -0.25844598,  0.03683888,\n",
              "         -0.21369633, -0.22073306, -0.12432083, -0.5702877 ,  0.04534089],\n",
              "        [-0.080479  , -0.21246767,  0.08048835, -0.13040105, -0.43662417,\n",
              "          0.5025417 , -0.45066035,  0.25782704, -0.5444857 , -0.09164082],\n",
              "        [ 0.2186732 ,  0.09196447, -0.0143982 ,  0.312141  , -0.37796375,\n",
              "         -0.5535828 ,  0.77470374, -0.52870595,  0.3173309 , -0.12354314],\n",
              "        [-0.48400086,  0.44034946,  0.12479627,  0.27284533, -0.02057131,\n",
              "          0.3001761 , -0.17928995,  0.34767565, -0.09382129,  0.22781214],\n",
              "        [-0.06214711, -0.19630831,  0.2851967 ,  0.03002051,  0.24801898,\n",
              "          0.22944772, -0.18474926,  0.39245266,  0.06974638,  0.12138882],\n",
              "        [-0.34901953, -0.21622235,  0.19182365,  0.28010365, -0.3664033 ,\n",
              "          0.03718144, -0.4102774 , -0.114132  , -0.0311328 , -0.3026297 ],\n",
              "        [ 0.49988618,  0.4080378 ,  0.1304418 ,  0.5700333 ,  0.02405107,\n",
              "         -0.30638525, -0.40046144,  0.42705935,  0.35938054, -0.23503542]],\n",
              "       dtype=float32),\n",
              " array([ 0.09736745,  0.08030805, -0.01424409, -0.06966481, -0.05282973,\n",
              "         0.03803949,  0.10721064,  0.02746098, -0.02096667, -0.00079901],\n",
              "       dtype=float32),\n",
              " array([[-0.38520995,  0.2444703 ,  0.5686589 ,  0.2063267 , -0.1303108 ,\n",
              "         -0.54437745,  0.5811404 ,  0.42130604, -0.10762499,  0.14494836],\n",
              "        [ 0.31562644, -0.1757923 , -0.06845891,  0.02686031,  0.03331095,\n",
              "         -0.02266532,  0.10904505, -0.02572017, -0.06769614, -0.6085981 ],\n",
              "        [ 0.04069179, -0.00718623, -0.3689951 , -0.4658549 ,  0.34253243,\n",
              "          0.21789204, -0.2467834 , -0.6003471 , -0.13186495, -0.13772255],\n",
              "        [-0.28120622, -0.09067979, -0.22477417, -0.00517423, -0.16279608,\n",
              "          0.02812647, -0.2149167 , -0.09367866, -0.2177068 , -0.33659476],\n",
              "        [-0.16488871, -0.45884842, -0.02578775,  0.12808289,  0.15037262,\n",
              "          0.81630147,  0.1479057 ,  0.557283  ,  0.34615692,  0.5937232 ],\n",
              "        [ 0.16623747, -0.2823697 , -0.13349293,  0.44830343, -0.23284107,\n",
              "          0.08155533, -0.4272564 ,  0.31198934,  0.26033378, -0.12580681],\n",
              "        [-0.47675025,  0.633139  ,  0.38792562,  0.6345262 , -0.00208169,\n",
              "          0.0712058 , -0.47714478, -0.05008771, -0.11027285, -0.12674195],\n",
              "        [-0.82637954,  1.0911324 , -0.16604972, -0.33910465, -0.0887575 ,\n",
              "          0.2408699 , -0.01237847, -0.06920576, -0.3323921 ,  0.3368595 ],\n",
              "        [-0.14911608, -0.14561644, -0.28548077, -0.07131751, -0.5203811 ,\n",
              "         -0.43557072,  0.1932794 , -0.3654385 , -0.8563907 , -0.07514141],\n",
              "        [ 0.31982335, -0.63928914,  0.24346603,  0.0661338 , -0.2204457 ,\n",
              "         -0.10421494,  0.20187561,  0.19901268,  0.17041   ,  0.27631918]],\n",
              "       dtype=float32),\n",
              " array([ 0.01770739,  0.04610798,  0.02917024,  0.03912752, -0.03088864,\n",
              "        -0.00791416,  0.03523588, -0.00306343,  0.0134938 ,  0.01268415],\n",
              "       dtype=float32),\n",
              " array([[ 0.44812462],\n",
              "        [-0.63325673],\n",
              "        [ 0.3931833 ],\n",
              "        [ 0.4536016 ],\n",
              "        [-0.08149993],\n",
              "        [-0.11498398],\n",
              "        [ 0.26668626],\n",
              "        [ 0.74161816],\n",
              "        [ 0.12868431],\n",
              "        [ 0.2843225 ]], dtype=float32),\n",
              " array([0.03159577], dtype=float32)]"
            ]
          },
          "metadata": {},
          "execution_count": 35
        }
      ]
    },
    {
      "cell_type": "code",
      "source": [
        "from mlxtend.plotting import plot_decision_regions\n",
        "plot_decision_regions(X,y.astype('int'), clf=model, legend=2)"
      ],
      "metadata": {
        "colab": {
          "base_uri": "https://localhost:8080/",
          "height": 465
        },
        "id": "EiVmBPEZUj6m",
        "outputId": "425947a1-11ca-4cf4-dee9-6833a0902c7d"
      },
      "execution_count": null,
      "outputs": [
        {
          "output_type": "stream",
          "name": "stdout",
          "text": [
            "\u001b[1m9600/9600\u001b[0m \u001b[32m━━━━━━━━━━━━━━━━━━━━\u001b[0m\u001b[37m\u001b[0m \u001b[1m12s\u001b[0m 1ms/step\n"
          ]
        },
        {
          "output_type": "execute_result",
          "data": {
            "text/plain": [
              "<Axes: >"
            ]
          },
          "metadata": {},
          "execution_count": 36
        },
        {
          "output_type": "display_data",
          "data": {
            "text/plain": [
              "<Figure size 640x480 with 1 Axes>"
            ],
            "image/png": "[encoded data removed]"
          },
          "metadata": {}
        }
      ]
    },
    {
      "cell_type": "code",
      "source": [],
      "metadata": {
        "id": "D3hz_N3UWf7H"
      },
      "execution_count": null,
      "outputs": []
    }
  ]
}